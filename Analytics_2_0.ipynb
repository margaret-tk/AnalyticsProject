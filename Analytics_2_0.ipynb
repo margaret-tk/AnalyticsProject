{
  "nbformat": 4,
  "nbformat_minor": 0,
  "metadata": {
    "colab": {
      "name": "Analytics 2.0.ipynb",
      "provenance": [],
      "collapsed_sections": [],
      "machine_shape": "hm"
    },
    "kernelspec": {
      "name": "python3",
      "display_name": "Python 3"
    }
  },
  "cells": [
    {
      "cell_type": "code",
      "metadata": {
        "id": "PnJJAm74f_3j",
        "colab_type": "code",
        "colab": {}
      },
      "source": [
        "import matplotlib\n",
        "import matplotlib.pyplot as plt\n",
        "import numpy as np\n",
        "import pandas as pd\n",
        "import seaborn as sns\n",
        "from sklearn.preprocessing import Imputer\n",
        "from sklearn.linear_model import LogisticRegression\n",
        "from sklearn.model_selection import train_test_split\n",
        "\n",
        "df = pd.read_csv('https://drive.google.com/uc?export=download&id=167Nqjl4Q9D-bw72qJBrAm8ZYL-ANIh2Q') \n",
        "weather = pd.read_csv('https://drive.google.com/uc?export=download&id=1F0JOQQH2tsJ72hZvtvg7Uvf_k3VyouDo')"
      ],
      "execution_count": 0,
      "outputs": []
    },
    {
      "cell_type": "code",
      "metadata": {
        "id": "iCSyTd2EgfpU",
        "colab_type": "code",
        "colab": {}
      },
      "source": [
        "df = df.replace('55c66225-fbe7-4fd5-9072-eab1ece5e23e', \"UberX\")\n",
        "df = df.replace('6c84fd89-3f11-4782-9b50-97c468b19529', \"UberBlack\")\n",
        "df = df.replace('6d318bcc-22a3-4af6-bddd-b409bfce1546', \"UberBlackSUV\")\n",
        "df = df.replace('997acbb5-e102-41e1-b155-9df7de0a73f2', \"UberPool\")\n",
        "df = df.replace('6f72dfc5-27f1-42e8-84db-ccc7a75f6969', \"UberXL\")\n",
        "df = df.replace('9a0e7b09-b92b-4c41-9779-2ad22b4d779d', \"UberWAV\")\n",
        "df = df.replace('8cf7e821-f0d3-49c6-8eba-e679c0ebcf6a', \"UberTaxi\")\n",
        "df = df.replace('Black', \"UberBlack\")\n",
        "df = df.replace('Black SUV', \"UberBlackSUV\")\n",
        "df = df.replace('Shared', \"LyftLine\")\n",
        "df = df.replace('Lux Black XL', \"LyftLuxBlackXL\")\n",
        "df = df.replace('Lyft XL', \"LyftXL\")\n",
        "df = df.replace('Lux Black', \"LyftLuxBlack\")\n",
        "df = df.replace('Lux', \"LyftLux\")\n",
        "\n",
        "\n",
        "weather['rain'] = weather['rain'].fillna(0)"
      ],
      "execution_count": 0,
      "outputs": []
    },
    {
      "cell_type": "markdown",
      "metadata": {
        "id": "LZGzFpbvcJR_",
        "colab_type": "text"
      },
      "source": [
        "# **Check for null prices in the dataset and remove them**"
      ]
    },
    {
      "cell_type": "code",
      "metadata": {
        "id": "2s0JznTIcIdC",
        "colab_type": "code",
        "colab": {}
      },
      "source": [
        "# All null prices prices are UberTaxi\n",
        "df[df['price'].isnull()].groupby('product_id').size()\n",
        "\n",
        "# All UberTaxi are null prices\n",
        "df[df['product_id'] == 'UberTaxi'].groupby('price').size()\n",
        "\n",
        "# Drop \"UberTaxi\"\n",
        "df = df[df['product_id'] != 'UberTaxi']"
      ],
      "execution_count": 0,
      "outputs": []
    },
    {
      "cell_type": "markdown",
      "metadata": {
        "id": "kX3TdpPUdtT5",
        "colab_type": "text"
      },
      "source": [
        "# **Dropping unnecesary columns**"
      ]
    },
    {
      "cell_type": "code",
      "metadata": {
        "id": "k6YeMY0DdZkK",
        "colab_type": "code",
        "colab": {}
      },
      "source": [
        "df = df.drop(columns=['product_id', 'id'])"
      ],
      "execution_count": 0,
      "outputs": []
    },
    {
      "cell_type": "code",
      "metadata": {
        "id": "_JkO_AArfaSy",
        "colab_type": "code",
        "colab": {}
      },
      "source": [
        "df = df[df['name'] != 'WAV']\n",
        "df = df[df['name'] != 'LyftLux']"
      ],
      "execution_count": 0,
      "outputs": []
    },
    {
      "cell_type": "markdown",
      "metadata": {
        "id": "cWadbTXDZi0x",
        "colab_type": "text"
      },
      "source": [
        "# **Labelling the data**"
      ]
    },
    {
      "cell_type": "code",
      "metadata": {
        "id": "xRe6ZVhfuU-2",
        "colab_type": "code",
        "colab": {}
      },
      "source": [
        "#df['cab_type'] = df['cab_type'].map({'Uber':1, 'Lyft':-1})\n",
        "#df.groupby('cab_type').size()"
      ],
      "execution_count": 0,
      "outputs": []
    },
    {
      "cell_type": "markdown",
      "metadata": {
        "id": "paijXVdAZ-19",
        "colab_type": "text"
      },
      "source": [
        "# **Mapping categories to standard names**"
      ]
    },
    {
      "cell_type": "code",
      "metadata": {
        "id": "MJOnEo2_wkDc",
        "colab_type": "code",
        "colab": {}
      },
      "source": [
        "df['category'] = df['name']\n",
        "df['category'] = df['category'].map({'LyftLine': 'Shared', 'LyftLuxBlack': 'Luxury', 'Lyft': 'Regular', 'LyftLuxBlackXL': 'LuxuryXL', 'LyftXL': 'XL',\n",
        "                                           'UberPool': 'Shared', 'UberBlack': 'Luxury', 'UberX': 'Regular', 'UberBlackSUV': 'LuxuryXL', 'UberXL': 'XL'})\n"
      ],
      "execution_count": 0,
      "outputs": []
    },
    {
      "cell_type": "code",
      "metadata": {
        "id": "PZV07ke8aMW1",
        "colab_type": "code",
        "colab": {}
      },
      "source": [
        "# drop surge multiplier since Uber only has a surge multiplier of 1\n",
        "df = df.drop(columns=['surge_multiplier'])"
      ],
      "execution_count": 0,
      "outputs": []
    },
    {
      "cell_type": "code",
      "metadata": {
        "id": "i_FtSygaM920",
        "colab_type": "code",
        "outputId": "a42c6a9d-1e00-414c-d4e3-983c9ae80b70",
        "colab": {
          "base_uri": "https://localhost:8080/",
          "height": 238
        }
      },
      "source": [
        "df.groupby(['destination', 'source']).size()"
      ],
      "execution_count": 0,
      "outputs": [
        {
          "output_type": "execute_result",
          "data": {
            "text/plain": [
              "destination  source                 \n",
              "Back Bay     Boston University          7235\n",
              "             Fenway                     7270\n",
              "             Haymarket Square           7365\n",
              "             North End                  7845\n",
              "             Northeastern University    7350\n",
              "                                        ... \n",
              "West End     Fenway                     7800\n",
              "             Haymarket Square           7020\n",
              "             North End                  7070\n",
              "             Northeastern University    7310\n",
              "             South Station              7325\n",
              "Length: 72, dtype: int64"
            ]
          },
          "metadata": {
            "tags": []
          },
          "execution_count": 9
        }
      ]
    },
    {
      "cell_type": "markdown",
      "metadata": {
        "id": "GZgSGmjWa7Rx",
        "colab_type": "text"
      },
      "source": [
        "# **Extracting date/time/day of the week from timestamp**"
      ]
    },
    {
      "cell_type": "code",
      "metadata": {
        "id": "oClJ_j56tN-p",
        "colab_type": "code",
        "colab": {}
      },
      "source": [
        "import datetime \n",
        "import time\n",
        "\n",
        "df['hour_of_day'] = df['time_stamp']\n",
        "df['date'] = df['time_stamp']\n",
        "df['day_of_week'] = df['time_stamp']\n",
        "\n",
        "\n",
        "df['hour_of_day'] = df['hour_of_day'].apply(lambda x: time.strftime('%H', time.localtime(x/1000)))\n",
        "df['date'] = df['date'].apply(lambda x: datetime.datetime.fromtimestamp(x/1000).date())\n",
        "df['day_of_week'] = df['day_of_week'].apply(lambda x: time.strftime('%A', time.localtime(x/1000)))"
      ],
      "execution_count": 0,
      "outputs": []
    },
    {
      "cell_type": "code",
      "metadata": {
        "id": "OCkfaNVV2wKH",
        "colab_type": "code",
        "colab": {}
      },
      "source": [
        "weather['hour_of_day'] = weather['time_stamp']\n",
        "weather['date'] = weather['time_stamp']\n",
        "weather['day_of_week'] = weather['time_stamp']\n",
        "\n",
        "\n",
        "weather['hour_of_day'] = weather['hour_of_day'].apply(lambda x: time.strftime('%H', time.localtime(x)))\n",
        "weather['date'] = weather['date'].apply(lambda x: datetime.datetime.fromtimestamp(x).date())\n",
        "weather['day_of_week'] = weather['day_of_week'].apply(lambda x: time.strftime('%A', time.localtime(x)))"
      ],
      "execution_count": 0,
      "outputs": []
    },
    {
      "cell_type": "code",
      "metadata": {
        "id": "gTSaWite67UJ",
        "colab_type": "code",
        "colab": {}
      },
      "source": [
        "def price_dist(p,d):\n",
        "  return p/d"
      ],
      "execution_count": 0,
      "outputs": []
    },
    {
      "cell_type": "markdown",
      "metadata": {
        "id": "IAMbty6ncK0n",
        "colab_type": "text"
      },
      "source": [
        "# **Cross-referencing weather at different times with times in the dataset (df)**"
      ]
    },
    {
      "cell_type": "code",
      "metadata": {
        "id": "SIZ9HZRhhLnZ",
        "colab_type": "code",
        "colab": {}
      },
      "source": [
        "# dropping duplicates\n",
        "df2 = pd.merge(df, weather, left_on=['date', 'hour_of_day', 'source'], right_on = ['date', 'hour_of_day', 'location'])\n",
        "df2 = df2.drop(columns=['location', 'name'])\n",
        "df2['hour_of_day'] = pd.to_numeric(df2['hour_of_day'])"
      ],
      "execution_count": 0,
      "outputs": []
    },
    {
      "cell_type": "code",
      "metadata": {
        "id": "7nAm9O9-mlKC",
        "colab_type": "code",
        "colab": {}
      },
      "source": [
        "lyft = df[df.cab_type == 'Lyft']\n",
        "lyft = lyft[['date', 'hour_of_day', 'source', 'destination', 'category', 'price','distance']]\n",
        "uber = df[df.cab_type == 'Uber']\n",
        "uber = uber[['date', 'hour_of_day', 'source', 'destination', 'category', 'price','distance']]\n",
        "lyft['price_per_dist_l'] = lyft.price/lyft.distance\n",
        "uber['price_per_dist_u'] = uber.price/uber.distance\n",
        "merged = pd.merge(uber, lyft, on=['date', 'hour_of_day', 'source', 'destination', 'category'])\n",
        "merged2 = pd.merge(merged, weather, left_on=['date', 'hour_of_day', 'source'], right_on = ['date', 'hour_of_day', 'location'])"
      ],
      "execution_count": 0,
      "outputs": []
    },
    {
      "cell_type": "code",
      "metadata": {
        "id": "XMxLHX2ErEEd",
        "colab_type": "code",
        "colab": {}
      },
      "source": [
        "#merged2['u_price_dist'] = merged.price_x/merged.distance_x"
      ],
      "execution_count": 0,
      "outputs": []
    },
    {
      "cell_type": "code",
      "metadata": {
        "id": "Gx2N-c4ICeKZ",
        "colab_type": "code",
        "outputId": "5a319d63-2577-495c-8c40-c7948915f175",
        "colab": {
          "base_uri": "https://localhost:8080/",
          "height": 204
        }
      },
      "source": [
        "merged2.head()"
      ],
      "execution_count": 0,
      "outputs": [
        {
          "output_type": "execute_result",
          "data": {
            "text/html": [
              "<div>\n",
              "<style scoped>\n",
              "    .dataframe tbody tr th:only-of-type {\n",
              "        vertical-align: middle;\n",
              "    }\n",
              "\n",
              "    .dataframe tbody tr th {\n",
              "        vertical-align: top;\n",
              "    }\n",
              "\n",
              "    .dataframe thead th {\n",
              "        text-align: right;\n",
              "    }\n",
              "</style>\n",
              "<table border=\"1\" class=\"dataframe\">\n",
              "  <thead>\n",
              "    <tr style=\"text-align: right;\">\n",
              "      <th></th>\n",
              "      <th>date</th>\n",
              "      <th>hour_of_day</th>\n",
              "      <th>source</th>\n",
              "      <th>destination</th>\n",
              "      <th>category</th>\n",
              "      <th>price_x</th>\n",
              "      <th>distance_x</th>\n",
              "      <th>price_per_dist_u</th>\n",
              "      <th>price_y</th>\n",
              "      <th>distance_y</th>\n",
              "      <th>price_per_dist_l</th>\n",
              "      <th>temp</th>\n",
              "      <th>location</th>\n",
              "      <th>clouds</th>\n",
              "      <th>pressure</th>\n",
              "      <th>rain</th>\n",
              "      <th>time_stamp</th>\n",
              "      <th>humidity</th>\n",
              "      <th>wind</th>\n",
              "      <th>day_of_week</th>\n",
              "    </tr>\n",
              "  </thead>\n",
              "  <tbody>\n",
              "    <tr>\n",
              "      <th>0</th>\n",
              "      <td>2018-11-30</td>\n",
              "      <td>22</td>\n",
              "      <td>North End</td>\n",
              "      <td>West End</td>\n",
              "      <td>XL</td>\n",
              "      <td>12.0</td>\n",
              "      <td>1.11</td>\n",
              "      <td>10.810811</td>\n",
              "      <td>13.5</td>\n",
              "      <td>1.25</td>\n",
              "      <td>10.800000</td>\n",
              "      <td>38.65</td>\n",
              "      <td>North End</td>\n",
              "      <td>0.96</td>\n",
              "      <td>1017.23</td>\n",
              "      <td>0.0</td>\n",
              "      <td>1543618374</td>\n",
              "      <td>0.65</td>\n",
              "      <td>3.13</td>\n",
              "      <td>Friday</td>\n",
              "    </tr>\n",
              "    <tr>\n",
              "      <th>1</th>\n",
              "      <td>2018-11-30</td>\n",
              "      <td>22</td>\n",
              "      <td>North End</td>\n",
              "      <td>West End</td>\n",
              "      <td>XL</td>\n",
              "      <td>12.0</td>\n",
              "      <td>1.11</td>\n",
              "      <td>10.810811</td>\n",
              "      <td>13.5</td>\n",
              "      <td>1.26</td>\n",
              "      <td>10.714286</td>\n",
              "      <td>38.65</td>\n",
              "      <td>North End</td>\n",
              "      <td>0.96</td>\n",
              "      <td>1017.23</td>\n",
              "      <td>0.0</td>\n",
              "      <td>1543618374</td>\n",
              "      <td>0.65</td>\n",
              "      <td>3.13</td>\n",
              "      <td>Friday</td>\n",
              "    </tr>\n",
              "    <tr>\n",
              "      <th>2</th>\n",
              "      <td>2018-11-30</td>\n",
              "      <td>22</td>\n",
              "      <td>North End</td>\n",
              "      <td>West End</td>\n",
              "      <td>XL</td>\n",
              "      <td>12.0</td>\n",
              "      <td>1.11</td>\n",
              "      <td>10.810811</td>\n",
              "      <td>10.5</td>\n",
              "      <td>1.25</td>\n",
              "      <td>8.400000</td>\n",
              "      <td>38.65</td>\n",
              "      <td>North End</td>\n",
              "      <td>0.96</td>\n",
              "      <td>1017.23</td>\n",
              "      <td>0.0</td>\n",
              "      <td>1543618374</td>\n",
              "      <td>0.65</td>\n",
              "      <td>3.13</td>\n",
              "      <td>Friday</td>\n",
              "    </tr>\n",
              "    <tr>\n",
              "      <th>3</th>\n",
              "      <td>2018-11-30</td>\n",
              "      <td>22</td>\n",
              "      <td>North End</td>\n",
              "      <td>West End</td>\n",
              "      <td>XL</td>\n",
              "      <td>13.0</td>\n",
              "      <td>1.11</td>\n",
              "      <td>11.711712</td>\n",
              "      <td>13.5</td>\n",
              "      <td>1.25</td>\n",
              "      <td>10.800000</td>\n",
              "      <td>38.65</td>\n",
              "      <td>North End</td>\n",
              "      <td>0.96</td>\n",
              "      <td>1017.23</td>\n",
              "      <td>0.0</td>\n",
              "      <td>1543618374</td>\n",
              "      <td>0.65</td>\n",
              "      <td>3.13</td>\n",
              "      <td>Friday</td>\n",
              "    </tr>\n",
              "    <tr>\n",
              "      <th>4</th>\n",
              "      <td>2018-11-30</td>\n",
              "      <td>22</td>\n",
              "      <td>North End</td>\n",
              "      <td>West End</td>\n",
              "      <td>XL</td>\n",
              "      <td>13.0</td>\n",
              "      <td>1.11</td>\n",
              "      <td>11.711712</td>\n",
              "      <td>13.5</td>\n",
              "      <td>1.26</td>\n",
              "      <td>10.714286</td>\n",
              "      <td>38.65</td>\n",
              "      <td>North End</td>\n",
              "      <td>0.96</td>\n",
              "      <td>1017.23</td>\n",
              "      <td>0.0</td>\n",
              "      <td>1543618374</td>\n",
              "      <td>0.65</td>\n",
              "      <td>3.13</td>\n",
              "      <td>Friday</td>\n",
              "    </tr>\n",
              "  </tbody>\n",
              "</table>\n",
              "</div>"
            ],
            "text/plain": [
              "         date hour_of_day     source  ... humidity  wind  day_of_week\n",
              "0  2018-11-30          22  North End  ...     0.65  3.13       Friday\n",
              "1  2018-11-30          22  North End  ...     0.65  3.13       Friday\n",
              "2  2018-11-30          22  North End  ...     0.65  3.13       Friday\n",
              "3  2018-11-30          22  North End  ...     0.65  3.13       Friday\n",
              "4  2018-11-30          22  North End  ...     0.65  3.13       Friday\n",
              "\n",
              "[5 rows x 20 columns]"
            ]
          },
          "metadata": {
            "tags": []
          },
          "execution_count": 16
        }
      ]
    },
    {
      "cell_type": "code",
      "metadata": {
        "id": "nQAWoswWrpo6",
        "colab_type": "code",
        "colab": {}
      },
      "source": [
        "# deleting date for now (also day of week)"
      ],
      "execution_count": 0,
      "outputs": []
    },
    {
      "cell_type": "code",
      "metadata": {
        "id": "KzNm_5Ebr7dr",
        "colab_type": "code",
        "colab": {}
      },
      "source": [
        "merged2 = merged2.drop(columns=['distance_x','distance_y','price_x','price_y','location','date','day_of_week','time_stamp'])"
      ],
      "execution_count": 0,
      "outputs": []
    },
    {
      "cell_type": "code",
      "metadata": {
        "id": "GJHaoxyxuwDn",
        "colab_type": "code",
        "colab": {}
      },
      "source": [
        "binary = pd.get_dummies(merged2, columns=['source','destination', 'category'])"
      ],
      "execution_count": 0,
      "outputs": []
    },
    {
      "cell_type": "code",
      "metadata": {
        "id": "cHQd2jE4v3DN",
        "colab_type": "code",
        "colab": {}
      },
      "source": [
        "binary.loc[binary['price_per_dist_u'] < binary['price_per_dist_l'], 'lowest_cost'] = 1 \n",
        "binary.loc[binary['price_per_dist_u'] > binary['price_per_dist_l'], 'lowest_cost'] = 0 \n",
        "binary.loc[binary['price_per_dist_u'] == binary['price_per_dist_l'], 'lowest_cost'] = -1 "
      ],
      "execution_count": 0,
      "outputs": []
    },
    {
      "cell_type": "code",
      "metadata": {
        "id": "z_JAA5-S5KHj",
        "colab_type": "code",
        "outputId": "bde01837-80df-4cc2-ec80-58fe6d3425d9",
        "colab": {
          "base_uri": "https://localhost:8080/",
          "height": 241
        }
      },
      "source": [
        "binary.head()"
      ],
      "execution_count": 0,
      "outputs": [
        {
          "output_type": "execute_result",
          "data": {
            "text/html": [
              "<div>\n",
              "<style scoped>\n",
              "    .dataframe tbody tr th:only-of-type {\n",
              "        vertical-align: middle;\n",
              "    }\n",
              "\n",
              "    .dataframe tbody tr th {\n",
              "        vertical-align: top;\n",
              "    }\n",
              "\n",
              "    .dataframe thead th {\n",
              "        text-align: right;\n",
              "    }\n",
              "</style>\n",
              "<table border=\"1\" class=\"dataframe\">\n",
              "  <thead>\n",
              "    <tr style=\"text-align: right;\">\n",
              "      <th></th>\n",
              "      <th>hour_of_day</th>\n",
              "      <th>price_per_dist_u</th>\n",
              "      <th>price_per_dist_l</th>\n",
              "      <th>temp</th>\n",
              "      <th>clouds</th>\n",
              "      <th>pressure</th>\n",
              "      <th>rain</th>\n",
              "      <th>humidity</th>\n",
              "      <th>wind</th>\n",
              "      <th>source_Back Bay</th>\n",
              "      <th>source_Beacon Hill</th>\n",
              "      <th>source_Boston University</th>\n",
              "      <th>source_Fenway</th>\n",
              "      <th>source_Financial District</th>\n",
              "      <th>source_Haymarket Square</th>\n",
              "      <th>source_North End</th>\n",
              "      <th>source_North Station</th>\n",
              "      <th>source_Northeastern University</th>\n",
              "      <th>source_South Station</th>\n",
              "      <th>source_Theatre District</th>\n",
              "      <th>source_West End</th>\n",
              "      <th>destination_Back Bay</th>\n",
              "      <th>destination_Beacon Hill</th>\n",
              "      <th>destination_Boston University</th>\n",
              "      <th>destination_Fenway</th>\n",
              "      <th>destination_Financial District</th>\n",
              "      <th>destination_Haymarket Square</th>\n",
              "      <th>destination_North End</th>\n",
              "      <th>destination_North Station</th>\n",
              "      <th>destination_Northeastern University</th>\n",
              "      <th>destination_South Station</th>\n",
              "      <th>destination_Theatre District</th>\n",
              "      <th>destination_West End</th>\n",
              "      <th>category_Luxury</th>\n",
              "      <th>category_LuxuryXL</th>\n",
              "      <th>category_Regular</th>\n",
              "      <th>category_Shared</th>\n",
              "      <th>category_XL</th>\n",
              "      <th>lowest_cost</th>\n",
              "    </tr>\n",
              "  </thead>\n",
              "  <tbody>\n",
              "    <tr>\n",
              "      <th>0</th>\n",
              "      <td>22</td>\n",
              "      <td>10.810811</td>\n",
              "      <td>10.800000</td>\n",
              "      <td>38.65</td>\n",
              "      <td>0.96</td>\n",
              "      <td>1017.23</td>\n",
              "      <td>0.0</td>\n",
              "      <td>0.65</td>\n",
              "      <td>3.13</td>\n",
              "      <td>0</td>\n",
              "      <td>0</td>\n",
              "      <td>0</td>\n",
              "      <td>0</td>\n",
              "      <td>0</td>\n",
              "      <td>0</td>\n",
              "      <td>1</td>\n",
              "      <td>0</td>\n",
              "      <td>0</td>\n",
              "      <td>0</td>\n",
              "      <td>0</td>\n",
              "      <td>0</td>\n",
              "      <td>0</td>\n",
              "      <td>0</td>\n",
              "      <td>0</td>\n",
              "      <td>0</td>\n",
              "      <td>0</td>\n",
              "      <td>0</td>\n",
              "      <td>0</td>\n",
              "      <td>0</td>\n",
              "      <td>0</td>\n",
              "      <td>0</td>\n",
              "      <td>0</td>\n",
              "      <td>1</td>\n",
              "      <td>0</td>\n",
              "      <td>0</td>\n",
              "      <td>0</td>\n",
              "      <td>0</td>\n",
              "      <td>1</td>\n",
              "      <td>0.0</td>\n",
              "    </tr>\n",
              "    <tr>\n",
              "      <th>1</th>\n",
              "      <td>22</td>\n",
              "      <td>10.810811</td>\n",
              "      <td>10.714286</td>\n",
              "      <td>38.65</td>\n",
              "      <td>0.96</td>\n",
              "      <td>1017.23</td>\n",
              "      <td>0.0</td>\n",
              "      <td>0.65</td>\n",
              "      <td>3.13</td>\n",
              "      <td>0</td>\n",
              "      <td>0</td>\n",
              "      <td>0</td>\n",
              "      <td>0</td>\n",
              "      <td>0</td>\n",
              "      <td>0</td>\n",
              "      <td>1</td>\n",
              "      <td>0</td>\n",
              "      <td>0</td>\n",
              "      <td>0</td>\n",
              "      <td>0</td>\n",
              "      <td>0</td>\n",
              "      <td>0</td>\n",
              "      <td>0</td>\n",
              "      <td>0</td>\n",
              "      <td>0</td>\n",
              "      <td>0</td>\n",
              "      <td>0</td>\n",
              "      <td>0</td>\n",
              "      <td>0</td>\n",
              "      <td>0</td>\n",
              "      <td>0</td>\n",
              "      <td>0</td>\n",
              "      <td>1</td>\n",
              "      <td>0</td>\n",
              "      <td>0</td>\n",
              "      <td>0</td>\n",
              "      <td>0</td>\n",
              "      <td>1</td>\n",
              "      <td>0.0</td>\n",
              "    </tr>\n",
              "    <tr>\n",
              "      <th>2</th>\n",
              "      <td>22</td>\n",
              "      <td>10.810811</td>\n",
              "      <td>8.400000</td>\n",
              "      <td>38.65</td>\n",
              "      <td>0.96</td>\n",
              "      <td>1017.23</td>\n",
              "      <td>0.0</td>\n",
              "      <td>0.65</td>\n",
              "      <td>3.13</td>\n",
              "      <td>0</td>\n",
              "      <td>0</td>\n",
              "      <td>0</td>\n",
              "      <td>0</td>\n",
              "      <td>0</td>\n",
              "      <td>0</td>\n",
              "      <td>1</td>\n",
              "      <td>0</td>\n",
              "      <td>0</td>\n",
              "      <td>0</td>\n",
              "      <td>0</td>\n",
              "      <td>0</td>\n",
              "      <td>0</td>\n",
              "      <td>0</td>\n",
              "      <td>0</td>\n",
              "      <td>0</td>\n",
              "      <td>0</td>\n",
              "      <td>0</td>\n",
              "      <td>0</td>\n",
              "      <td>0</td>\n",
              "      <td>0</td>\n",
              "      <td>0</td>\n",
              "      <td>0</td>\n",
              "      <td>1</td>\n",
              "      <td>0</td>\n",
              "      <td>0</td>\n",
              "      <td>0</td>\n",
              "      <td>0</td>\n",
              "      <td>1</td>\n",
              "      <td>0.0</td>\n",
              "    </tr>\n",
              "    <tr>\n",
              "      <th>3</th>\n",
              "      <td>22</td>\n",
              "      <td>11.711712</td>\n",
              "      <td>10.800000</td>\n",
              "      <td>38.65</td>\n",
              "      <td>0.96</td>\n",
              "      <td>1017.23</td>\n",
              "      <td>0.0</td>\n",
              "      <td>0.65</td>\n",
              "      <td>3.13</td>\n",
              "      <td>0</td>\n",
              "      <td>0</td>\n",
              "      <td>0</td>\n",
              "      <td>0</td>\n",
              "      <td>0</td>\n",
              "      <td>0</td>\n",
              "      <td>1</td>\n",
              "      <td>0</td>\n",
              "      <td>0</td>\n",
              "      <td>0</td>\n",
              "      <td>0</td>\n",
              "      <td>0</td>\n",
              "      <td>0</td>\n",
              "      <td>0</td>\n",
              "      <td>0</td>\n",
              "      <td>0</td>\n",
              "      <td>0</td>\n",
              "      <td>0</td>\n",
              "      <td>0</td>\n",
              "      <td>0</td>\n",
              "      <td>0</td>\n",
              "      <td>0</td>\n",
              "      <td>0</td>\n",
              "      <td>1</td>\n",
              "      <td>0</td>\n",
              "      <td>0</td>\n",
              "      <td>0</td>\n",
              "      <td>0</td>\n",
              "      <td>1</td>\n",
              "      <td>0.0</td>\n",
              "    </tr>\n",
              "    <tr>\n",
              "      <th>4</th>\n",
              "      <td>22</td>\n",
              "      <td>11.711712</td>\n",
              "      <td>10.714286</td>\n",
              "      <td>38.65</td>\n",
              "      <td>0.96</td>\n",
              "      <td>1017.23</td>\n",
              "      <td>0.0</td>\n",
              "      <td>0.65</td>\n",
              "      <td>3.13</td>\n",
              "      <td>0</td>\n",
              "      <td>0</td>\n",
              "      <td>0</td>\n",
              "      <td>0</td>\n",
              "      <td>0</td>\n",
              "      <td>0</td>\n",
              "      <td>1</td>\n",
              "      <td>0</td>\n",
              "      <td>0</td>\n",
              "      <td>0</td>\n",
              "      <td>0</td>\n",
              "      <td>0</td>\n",
              "      <td>0</td>\n",
              "      <td>0</td>\n",
              "      <td>0</td>\n",
              "      <td>0</td>\n",
              "      <td>0</td>\n",
              "      <td>0</td>\n",
              "      <td>0</td>\n",
              "      <td>0</td>\n",
              "      <td>0</td>\n",
              "      <td>0</td>\n",
              "      <td>0</td>\n",
              "      <td>1</td>\n",
              "      <td>0</td>\n",
              "      <td>0</td>\n",
              "      <td>0</td>\n",
              "      <td>0</td>\n",
              "      <td>1</td>\n",
              "      <td>0.0</td>\n",
              "    </tr>\n",
              "  </tbody>\n",
              "</table>\n",
              "</div>"
            ],
            "text/plain": [
              "  hour_of_day  price_per_dist_u  ...  category_XL  lowest_cost\n",
              "0          22         10.810811  ...            1          0.0\n",
              "1          22         10.810811  ...            1          0.0\n",
              "2          22         10.810811  ...            1          0.0\n",
              "3          22         11.711712  ...            1          0.0\n",
              "4          22         11.711712  ...            1          0.0\n",
              "\n",
              "[5 rows x 39 columns]"
            ]
          },
          "metadata": {
            "tags": []
          },
          "execution_count": 21
        }
      ]
    },
    {
      "cell_type": "code",
      "metadata": {
        "id": "2JDClG1Nydoj",
        "colab_type": "code",
        "colab": {}
      },
      "source": [
        "#binary = binary.drop(columns=['price_per_dist_x','price_per_dist_y'])"
      ],
      "execution_count": 0,
      "outputs": []
    },
    {
      "cell_type": "code",
      "metadata": {
        "id": "Y7k9648KvpOQ",
        "colab_type": "code",
        "outputId": "4f1915dd-fbef-4148-e73c-e5067a0c29e0",
        "colab": {
          "base_uri": "https://localhost:8080/",
          "height": 102
        }
      },
      "source": [
        "#  0: Lyft is Cheaper\n",
        "#  1: Uber is Cheaper\n",
        "# -1: Same price\n",
        "\n",
        "binary.groupby('lowest_cost').size()"
      ],
      "execution_count": 0,
      "outputs": [
        {
          "output_type": "execute_result",
          "data": {
            "text/plain": [
              "lowest_cost\n",
              "-1.0      4174\n",
              " 0.0    918503\n",
              " 1.0    680800\n",
              "dtype: int64"
            ]
          },
          "metadata": {
            "tags": []
          },
          "execution_count": 23
        }
      ]
    },
    {
      "cell_type": "code",
      "metadata": {
        "id": "G1lKsW0q5lNk",
        "colab_type": "code",
        "outputId": "84cc9e07-5f1c-4f7e-f940-bb33d137497b",
        "colab": {
          "base_uri": "https://localhost:8080/",
          "height": 34
        }
      },
      "source": [
        "binary.shape"
      ],
      "execution_count": 0,
      "outputs": [
        {
          "output_type": "execute_result",
          "data": {
            "text/plain": [
              "(1603477, 39)"
            ]
          },
          "metadata": {
            "tags": []
          },
          "execution_count": 24
        }
      ]
    },
    {
      "cell_type": "code",
      "metadata": {
        "id": "HPWP7aB9yTPC",
        "colab_type": "code",
        "outputId": "7ff3fd53-e6c2-4231-a3a0-192a05b04dc5",
        "colab": {
          "base_uri": "https://localhost:8080/",
          "height": 697
        }
      },
      "source": [
        "#binary.groupby('date').size()\n",
        "binary.head()\n",
        "binary.isna().sum()\n"
      ],
      "execution_count": 0,
      "outputs": [
        {
          "output_type": "execute_result",
          "data": {
            "text/plain": [
              "hour_of_day                            0\n",
              "price_per_dist_u                       0\n",
              "price_per_dist_l                       0\n",
              "temp                                   0\n",
              "clouds                                 0\n",
              "pressure                               0\n",
              "rain                                   0\n",
              "humidity                               0\n",
              "wind                                   0\n",
              "source_Back Bay                        0\n",
              "source_Beacon Hill                     0\n",
              "source_Boston University               0\n",
              "source_Fenway                          0\n",
              "source_Financial District              0\n",
              "source_Haymarket Square                0\n",
              "source_North End                       0\n",
              "source_North Station                   0\n",
              "source_Northeastern University         0\n",
              "source_South Station                   0\n",
              "source_Theatre District                0\n",
              "source_West End                        0\n",
              "destination_Back Bay                   0\n",
              "destination_Beacon Hill                0\n",
              "destination_Boston University          0\n",
              "destination_Fenway                     0\n",
              "destination_Financial District         0\n",
              "destination_Haymarket Square           0\n",
              "destination_North End                  0\n",
              "destination_North Station              0\n",
              "destination_Northeastern University    0\n",
              "destination_South Station              0\n",
              "destination_Theatre District           0\n",
              "destination_West End                   0\n",
              "category_Luxury                        0\n",
              "category_LuxuryXL                      0\n",
              "category_Regular                       0\n",
              "category_Shared                        0\n",
              "category_XL                            0\n",
              "lowest_cost                            0\n",
              "dtype: int64"
            ]
          },
          "metadata": {
            "tags": []
          },
          "execution_count": 25
        }
      ]
    },
    {
      "cell_type": "code",
      "metadata": {
        "id": "9togF9EFEv9e",
        "colab_type": "code",
        "colab": {}
      },
      "source": [
        ""
      ],
      "execution_count": 0,
      "outputs": []
    },
    {
      "cell_type": "code",
      "metadata": {
        "id": "sPrFMoFl24pX",
        "colab_type": "code",
        "outputId": "5fbb5158-5598-4c5f-a1fc-215d7fb72101",
        "colab": {
          "base_uri": "https://localhost:8080/",
          "height": 241
        }
      },
      "source": [
        "binary.head()"
      ],
      "execution_count": 0,
      "outputs": [
        {
          "output_type": "execute_result",
          "data": {
            "text/html": [
              "<div>\n",
              "<style scoped>\n",
              "    .dataframe tbody tr th:only-of-type {\n",
              "        vertical-align: middle;\n",
              "    }\n",
              "\n",
              "    .dataframe tbody tr th {\n",
              "        vertical-align: top;\n",
              "    }\n",
              "\n",
              "    .dataframe thead th {\n",
              "        text-align: right;\n",
              "    }\n",
              "</style>\n",
              "<table border=\"1\" class=\"dataframe\">\n",
              "  <thead>\n",
              "    <tr style=\"text-align: right;\">\n",
              "      <th></th>\n",
              "      <th>hour_of_day</th>\n",
              "      <th>price_per_dist_u</th>\n",
              "      <th>price_per_dist_l</th>\n",
              "      <th>temp</th>\n",
              "      <th>clouds</th>\n",
              "      <th>pressure</th>\n",
              "      <th>rain</th>\n",
              "      <th>humidity</th>\n",
              "      <th>wind</th>\n",
              "      <th>source_Back Bay</th>\n",
              "      <th>source_Beacon Hill</th>\n",
              "      <th>source_Boston University</th>\n",
              "      <th>source_Fenway</th>\n",
              "      <th>source_Financial District</th>\n",
              "      <th>source_Haymarket Square</th>\n",
              "      <th>source_North End</th>\n",
              "      <th>source_North Station</th>\n",
              "      <th>source_Northeastern University</th>\n",
              "      <th>source_South Station</th>\n",
              "      <th>source_Theatre District</th>\n",
              "      <th>source_West End</th>\n",
              "      <th>destination_Back Bay</th>\n",
              "      <th>destination_Beacon Hill</th>\n",
              "      <th>destination_Boston University</th>\n",
              "      <th>destination_Fenway</th>\n",
              "      <th>destination_Financial District</th>\n",
              "      <th>destination_Haymarket Square</th>\n",
              "      <th>destination_North End</th>\n",
              "      <th>destination_North Station</th>\n",
              "      <th>destination_Northeastern University</th>\n",
              "      <th>destination_South Station</th>\n",
              "      <th>destination_Theatre District</th>\n",
              "      <th>destination_West End</th>\n",
              "      <th>category_Luxury</th>\n",
              "      <th>category_LuxuryXL</th>\n",
              "      <th>category_Regular</th>\n",
              "      <th>category_Shared</th>\n",
              "      <th>category_XL</th>\n",
              "      <th>lowest_cost</th>\n",
              "    </tr>\n",
              "  </thead>\n",
              "  <tbody>\n",
              "    <tr>\n",
              "      <th>0</th>\n",
              "      <td>22</td>\n",
              "      <td>10.810811</td>\n",
              "      <td>10.800000</td>\n",
              "      <td>38.65</td>\n",
              "      <td>0.96</td>\n",
              "      <td>1017.23</td>\n",
              "      <td>0.0</td>\n",
              "      <td>0.65</td>\n",
              "      <td>3.13</td>\n",
              "      <td>0</td>\n",
              "      <td>0</td>\n",
              "      <td>0</td>\n",
              "      <td>0</td>\n",
              "      <td>0</td>\n",
              "      <td>0</td>\n",
              "      <td>1</td>\n",
              "      <td>0</td>\n",
              "      <td>0</td>\n",
              "      <td>0</td>\n",
              "      <td>0</td>\n",
              "      <td>0</td>\n",
              "      <td>0</td>\n",
              "      <td>0</td>\n",
              "      <td>0</td>\n",
              "      <td>0</td>\n",
              "      <td>0</td>\n",
              "      <td>0</td>\n",
              "      <td>0</td>\n",
              "      <td>0</td>\n",
              "      <td>0</td>\n",
              "      <td>0</td>\n",
              "      <td>0</td>\n",
              "      <td>1</td>\n",
              "      <td>0</td>\n",
              "      <td>0</td>\n",
              "      <td>0</td>\n",
              "      <td>0</td>\n",
              "      <td>1</td>\n",
              "      <td>0.0</td>\n",
              "    </tr>\n",
              "    <tr>\n",
              "      <th>1</th>\n",
              "      <td>22</td>\n",
              "      <td>10.810811</td>\n",
              "      <td>10.714286</td>\n",
              "      <td>38.65</td>\n",
              "      <td>0.96</td>\n",
              "      <td>1017.23</td>\n",
              "      <td>0.0</td>\n",
              "      <td>0.65</td>\n",
              "      <td>3.13</td>\n",
              "      <td>0</td>\n",
              "      <td>0</td>\n",
              "      <td>0</td>\n",
              "      <td>0</td>\n",
              "      <td>0</td>\n",
              "      <td>0</td>\n",
              "      <td>1</td>\n",
              "      <td>0</td>\n",
              "      <td>0</td>\n",
              "      <td>0</td>\n",
              "      <td>0</td>\n",
              "      <td>0</td>\n",
              "      <td>0</td>\n",
              "      <td>0</td>\n",
              "      <td>0</td>\n",
              "      <td>0</td>\n",
              "      <td>0</td>\n",
              "      <td>0</td>\n",
              "      <td>0</td>\n",
              "      <td>0</td>\n",
              "      <td>0</td>\n",
              "      <td>0</td>\n",
              "      <td>0</td>\n",
              "      <td>1</td>\n",
              "      <td>0</td>\n",
              "      <td>0</td>\n",
              "      <td>0</td>\n",
              "      <td>0</td>\n",
              "      <td>1</td>\n",
              "      <td>0.0</td>\n",
              "    </tr>\n",
              "    <tr>\n",
              "      <th>2</th>\n",
              "      <td>22</td>\n",
              "      <td>10.810811</td>\n",
              "      <td>8.400000</td>\n",
              "      <td>38.65</td>\n",
              "      <td>0.96</td>\n",
              "      <td>1017.23</td>\n",
              "      <td>0.0</td>\n",
              "      <td>0.65</td>\n",
              "      <td>3.13</td>\n",
              "      <td>0</td>\n",
              "      <td>0</td>\n",
              "      <td>0</td>\n",
              "      <td>0</td>\n",
              "      <td>0</td>\n",
              "      <td>0</td>\n",
              "      <td>1</td>\n",
              "      <td>0</td>\n",
              "      <td>0</td>\n",
              "      <td>0</td>\n",
              "      <td>0</td>\n",
              "      <td>0</td>\n",
              "      <td>0</td>\n",
              "      <td>0</td>\n",
              "      <td>0</td>\n",
              "      <td>0</td>\n",
              "      <td>0</td>\n",
              "      <td>0</td>\n",
              "      <td>0</td>\n",
              "      <td>0</td>\n",
              "      <td>0</td>\n",
              "      <td>0</td>\n",
              "      <td>0</td>\n",
              "      <td>1</td>\n",
              "      <td>0</td>\n",
              "      <td>0</td>\n",
              "      <td>0</td>\n",
              "      <td>0</td>\n",
              "      <td>1</td>\n",
              "      <td>0.0</td>\n",
              "    </tr>\n",
              "    <tr>\n",
              "      <th>3</th>\n",
              "      <td>22</td>\n",
              "      <td>11.711712</td>\n",
              "      <td>10.800000</td>\n",
              "      <td>38.65</td>\n",
              "      <td>0.96</td>\n",
              "      <td>1017.23</td>\n",
              "      <td>0.0</td>\n",
              "      <td>0.65</td>\n",
              "      <td>3.13</td>\n",
              "      <td>0</td>\n",
              "      <td>0</td>\n",
              "      <td>0</td>\n",
              "      <td>0</td>\n",
              "      <td>0</td>\n",
              "      <td>0</td>\n",
              "      <td>1</td>\n",
              "      <td>0</td>\n",
              "      <td>0</td>\n",
              "      <td>0</td>\n",
              "      <td>0</td>\n",
              "      <td>0</td>\n",
              "      <td>0</td>\n",
              "      <td>0</td>\n",
              "      <td>0</td>\n",
              "      <td>0</td>\n",
              "      <td>0</td>\n",
              "      <td>0</td>\n",
              "      <td>0</td>\n",
              "      <td>0</td>\n",
              "      <td>0</td>\n",
              "      <td>0</td>\n",
              "      <td>0</td>\n",
              "      <td>1</td>\n",
              "      <td>0</td>\n",
              "      <td>0</td>\n",
              "      <td>0</td>\n",
              "      <td>0</td>\n",
              "      <td>1</td>\n",
              "      <td>0.0</td>\n",
              "    </tr>\n",
              "    <tr>\n",
              "      <th>4</th>\n",
              "      <td>22</td>\n",
              "      <td>11.711712</td>\n",
              "      <td>10.714286</td>\n",
              "      <td>38.65</td>\n",
              "      <td>0.96</td>\n",
              "      <td>1017.23</td>\n",
              "      <td>0.0</td>\n",
              "      <td>0.65</td>\n",
              "      <td>3.13</td>\n",
              "      <td>0</td>\n",
              "      <td>0</td>\n",
              "      <td>0</td>\n",
              "      <td>0</td>\n",
              "      <td>0</td>\n",
              "      <td>0</td>\n",
              "      <td>1</td>\n",
              "      <td>0</td>\n",
              "      <td>0</td>\n",
              "      <td>0</td>\n",
              "      <td>0</td>\n",
              "      <td>0</td>\n",
              "      <td>0</td>\n",
              "      <td>0</td>\n",
              "      <td>0</td>\n",
              "      <td>0</td>\n",
              "      <td>0</td>\n",
              "      <td>0</td>\n",
              "      <td>0</td>\n",
              "      <td>0</td>\n",
              "      <td>0</td>\n",
              "      <td>0</td>\n",
              "      <td>0</td>\n",
              "      <td>1</td>\n",
              "      <td>0</td>\n",
              "      <td>0</td>\n",
              "      <td>0</td>\n",
              "      <td>0</td>\n",
              "      <td>1</td>\n",
              "      <td>0.0</td>\n",
              "    </tr>\n",
              "  </tbody>\n",
              "</table>\n",
              "</div>"
            ],
            "text/plain": [
              "  hour_of_day  price_per_dist_u  ...  category_XL  lowest_cost\n",
              "0          22         10.810811  ...            1          0.0\n",
              "1          22         10.810811  ...            1          0.0\n",
              "2          22         10.810811  ...            1          0.0\n",
              "3          22         11.711712  ...            1          0.0\n",
              "4          22         11.711712  ...            1          0.0\n",
              "\n",
              "[5 rows x 39 columns]"
            ]
          },
          "metadata": {
            "tags": []
          },
          "execution_count": 26
        }
      ]
    },
    {
      "cell_type": "markdown",
      "metadata": {
        "id": "ov7HTc9Kxj-l",
        "colab_type": "text"
      },
      "source": [
        "# CART\n"
      ]
    },
    {
      "cell_type": "code",
      "metadata": {
        "id": "s-1_aLquyP-s",
        "colab_type": "code",
        "colab": {}
      },
      "source": [
        "cart = binary.copy()\n",
        "cart = cart.drop(columns=['price_per_dist_u', 'price_per_dist_l'])"
      ],
      "execution_count": 0,
      "outputs": []
    },
    {
      "cell_type": "code",
      "metadata": {
        "id": "UQYIVg8TEr5W",
        "colab_type": "code",
        "colab": {}
      },
      "source": [
        "x = cart.drop(['lowest_cost'], axis=1)\n",
        "y = cart['lowest_cost']\n",
        "x_train, x_test, y_train, y_test = train_test_split(x, y, test_size=0.33, random_state=3)"
      ],
      "execution_count": 0,
      "outputs": []
    },
    {
      "cell_type": "code",
      "metadata": {
        "id": "0Ur0-Ca8y9ll",
        "colab_type": "code",
        "outputId": "e85c1a56-0190-4e8a-f32c-b4a4ef0ee852",
        "colab": {
          "base_uri": "https://localhost:8080/",
          "height": 34
        }
      },
      "source": [
        "from sklearn.tree import DecisionTreeClassifier\n",
        "from sklearn.tree import export_graphviz\n",
        "from subprocess import call\n",
        "from IPython.display import SVG\n",
        "from graphviz import Source\n",
        "\n",
        "# Train the CART model\n",
        "cart_model = DecisionTreeClassifier(random_state=3,max_depth=50)\n",
        "cart_model.fit(x_train, y_train)\n",
        "train_score = cart_model.score(x_train, y_train)\n",
        "test_score = cart_model.score(x_test, y_test)\n",
        "\n",
        "# Print out summary of model performance \n",
        "print('The score of this model over training data is {:.3f} and {:.3f} over the testing data'.format(train_score, test_score))\n",
        "\n",
        "# Visualize the decision tree\n",
        "# cart_graph = Source(export_graphviz(cart_model,\n",
        "#                    feature_names = cart.columns[1:],\n",
        "#                    rounded = True, proportion = False, \n",
        "#                   filled = True))\n",
        "# SVG(cart_graph.pipe(format='svg'))"
      ],
      "execution_count": 0,
      "outputs": [
        {
          "output_type": "stream",
          "text": [
            "The score of this model over training data is 0.800 and 0.753 over the testing data\n"
          ],
          "name": "stdout"
        }
      ]
    },
    {
      "cell_type": "markdown",
      "metadata": {
        "id": "QwTWsZiwKtvA",
        "colab_type": "text"
      },
      "source": [
        "## Logistic Regression"
      ]
    },
    {
      "cell_type": "code",
      "metadata": {
        "id": "ZWSm-l_aKyvO",
        "colab_type": "code",
        "outputId": "d82f29d5-d3f3-4ba4-9c6a-655fe7cd6a75",
        "colab": {
          "base_uri": "https://localhost:8080/",
          "height": 102
        }
      },
      "source": [
        "logreg = LogisticRegression()\n",
        "logreg.fit(x_train, y_train)\n",
        "\n",
        "# Predict the number of wins\n",
        "logreg.predict(x_test)"
      ],
      "execution_count": 0,
      "outputs": [
        {
          "output_type": "stream",
          "text": [
            "/usr/local/lib/python3.6/dist-packages/sklearn/linear_model/logistic.py:432: FutureWarning: Default solver will be changed to 'lbfgs' in 0.22. Specify a solver to silence this warning.\n",
            "  FutureWarning)\n",
            "/usr/local/lib/python3.6/dist-packages/sklearn/linear_model/logistic.py:469: FutureWarning: Default multi_class will be changed to 'auto' in 0.22. Specify the multi_class option to silence this warning.\n",
            "  \"this warning.\", FutureWarning)\n"
          ],
          "name": "stderr"
        },
        {
          "output_type": "execute_result",
          "data": {
            "text/plain": [
              "array([0., 0., 0., ..., 0., 1., 0.])"
            ]
          },
          "metadata": {
            "tags": []
          },
          "execution_count": 30
        }
      ]
    },
    {
      "cell_type": "code",
      "metadata": {
        "id": "MPYNpyTSLqMx",
        "colab_type": "code",
        "outputId": "360034ca-9489-4003-c775-f0c3b5246630",
        "colab": {
          "base_uri": "https://localhost:8080/",
          "height": 34
        }
      },
      "source": [
        "train_score = logreg.score(x_train, y_train)\n",
        "test_score = logreg.score(x_test, y_test)\n",
        "\n",
        "print('The train score is {} and the test score is {}'.format(train_score, test_score))"
      ],
      "execution_count": 0,
      "outputs": [
        {
          "output_type": "stream",
          "text": [
            "The train score is 0.6989851339766496 and the test score is 0.6998004339050701\n"
          ],
          "name": "stdout"
        }
      ]
    },
    {
      "cell_type": "markdown",
      "metadata": {
        "id": "8j15UxkFOsor",
        "colab_type": "text"
      },
      "source": [
        "Model Engineering"
      ]
    },
    {
      "cell_type": "code",
      "metadata": {
        "id": "zHW2_uPEOwcn",
        "colab_type": "code",
        "outputId": "98c498c7-2bed-4c19-ada2-abbdc56693ad",
        "colab": {
          "base_uri": "https://localhost:8080/",
          "height": 680
        }
      },
      "source": [
        "binary.corr().lowest_cost.sort_values()"
      ],
      "execution_count": 0,
      "outputs": [
        {
          "output_type": "execute_result",
          "data": {
            "text/plain": [
              "category_Shared                       -0.337101\n",
              "source_Haymarket Square               -0.118169\n",
              "source_Theatre District               -0.078013\n",
              "source_North End                      -0.075899\n",
              "destination_Haymarket Square          -0.062132\n",
              "source_North Station                  -0.056513\n",
              "price_per_dist_u                      -0.047749\n",
              "destination_Boston University         -0.032027\n",
              "category_XL                           -0.027370\n",
              "category_Regular                      -0.021013\n",
              "destination_North Station             -0.020236\n",
              "source_West End                       -0.017175\n",
              "source_Beacon Hill                    -0.009494\n",
              "destination_Fenway                    -0.005602\n",
              "wind                                  -0.003885\n",
              "pressure                              -0.000849\n",
              "humidity                               0.000992\n",
              "destination_North End                  0.001012\n",
              "rain                                   0.002261\n",
              "clouds                                 0.002804\n",
              "destination_Theatre District           0.003189\n",
              "temp                                   0.003369\n",
              "destination_West End                   0.006241\n",
              "destination_Northeastern University    0.006475\n",
              "source_Financial District              0.011978\n",
              "destination_Back Bay                   0.022072\n",
              "destination_South Station              0.023130\n",
              "destination_Beacon Hill                0.026281\n",
              "destination_Financial District         0.030957\n",
              "source_Boston University               0.041403\n",
              "source_Fenway                          0.056249\n",
              "source_South Station                   0.064241\n",
              "source_Back Bay                        0.078145\n",
              "source_Northeastern University         0.102779\n",
              "category_LuxuryXL                      0.119553\n",
              "price_per_dist_l                       0.161247\n",
              "category_Luxury                        0.266682\n",
              "lowest_cost                            1.000000\n",
              "Name: lowest_cost, dtype: float64"
            ]
          },
          "metadata": {
            "tags": []
          },
          "execution_count": 32
        }
      ]
    },
    {
      "cell_type": "code",
      "metadata": {
        "id": "eHqEpWXa5uEG",
        "colab_type": "code",
        "outputId": "f7b9a887-8fac-4686-a3a8-300684864670",
        "colab": {
          "base_uri": "https://localhost:8080/",
          "height": 34
        }
      },
      "source": [
        "logreg.predict(x_test).sum() "
      ],
      "execution_count": 0,
      "outputs": [
        {
          "output_type": "execute_result",
          "data": {
            "text/plain": [
              "223263.0"
            ]
          },
          "metadata": {
            "tags": []
          },
          "execution_count": 33
        }
      ]
    },
    {
      "cell_type": "code",
      "metadata": {
        "id": "uSaAYrBM65nS",
        "colab_type": "code",
        "colab": {}
      },
      "source": [
        "# logregl1 = LogisticRegression(penalty='l1')\n",
        "# logregl1.fit(x_train, y_train)\n",
        "\n",
        "# # Partition the testing data into features and target\n",
        "# #x_test = df_test.drop(columns=['W','Team','SeasonEnd', 'Playoffs'])\n",
        "# #y_test = df_test.Playoffs\n",
        "\n",
        "# # calculate the score\n",
        "# train_score = logregl1.score(x_train, y_train)\n",
        "# test_score = logregl1.score(x_test, y_test)\n",
        "# print('The train score is {} and the test score is {}'.format(train_score, test_score))\n"
      ],
      "execution_count": 0,
      "outputs": []
    },
    {
      "cell_type": "code",
      "metadata": {
        "id": "PlRJjJht9DP7",
        "colab_type": "code",
        "outputId": "cfd134e6-07a5-4634-ed39-e47db974364d",
        "colab": {
          "base_uri": "https://localhost:8080/",
          "height": 279
        }
      },
      "source": [
        "from sklearn.metrics import confusion_matrix\n",
        "\n",
        "\n",
        "y_pred = logreg.predict(x_test)\n",
        "cfm = confusion_matrix(y_true=y_test, y_pred=y_pred)\n",
        "ax = sns.heatmap(cfm, annot=True)\n",
        "ax.set(xlabel='Predicted', ylabel='Actual');"
      ],
      "execution_count": 0,
      "outputs": [
        {
          "output_type": "display_data",
          "data": {
            "image/png": "[encoded data removed]",
            "text/plain": [
              "<Figure size 432x288 with 2 Axes>"
            ]
          },
          "metadata": {
            "tags": []
          }
        }
      ]
    },
    {
      "cell_type": "code",
      "metadata": {
        "id": "Bq0nLH2H_J0w",
        "colab_type": "code",
        "outputId": "d3235362-4381-46a1-c7d9-f5088be982b3",
        "colab": {
          "base_uri": "https://localhost:8080/"
        }
      },
      "source": [
        "merged2.groupby(['source','destination']).size()"
      ],
      "execution_count": 0,
      "outputs": [
        {
          "output_type": "execute_result",
          "data": {
            "text/plain": [
              "source    destination            \n",
              "Back Bay  Boston University          23385\n",
              "          Fenway                     20330\n",
              "          Haymarket Square           20750\n",
              "          North End                  25345\n",
              "          Northeastern University    24029\n",
              "                                     ...  \n",
              "West End  Fenway                     24031\n",
              "          Haymarket Square           21041\n",
              "          North End                  21824\n",
              "          Northeastern University    19801\n",
              "          South Station              20406\n",
              "Length: 72, dtype: int64"
            ]
          },
          "metadata": {
            "tags": []
          },
          "execution_count": 35
        }
      ]
    },
    {
      "cell_type": "code",
      "metadata": {
        "id": "-Q8_dS4T_M3X",
        "colab_type": "code",
        "colab": {}
      },
      "source": [
        ""
      ],
      "execution_count": 0,
      "outputs": []
    },
    {
      "cell_type": "code",
      "metadata": {
        "id": "6YCq3GU_Ds0E",
        "colab_type": "code",
        "outputId": "861802e7-23ea-4453-e72f-c25f36da79c8",
        "colab": {
          "base_uri": "https://localhost:8080/",
          "height": 68
        }
      },
      "source": [
        "def fit_and_score_model(mdl, x_train, x_test, y_train, y_test, random_state=0):\n",
        "    \"\"\"\n",
        "    This function will fit and score the input mdl to the x_train and y_train \n",
        "    data, and score the mdl on y_train and y_test. To ensure results are \n",
        "    reproducible we can also set a random state.\n",
        "    \"\"\"\n",
        "  \n",
        "    # Fit an arbitrary model\n",
        "    mdl.fit(x_train, y_train)\n",
        "    \n",
        "    # Calculate the score of the model on training and testing data\n",
        "    train_score = mdl.score(x_train, y_train)\n",
        "    test_score = mdl.score(x_test, y_test)\n",
        "  \n",
        "    # Print scores to terminal\n",
        "    print('the accuracy on the: \\n\\t training data is {}'.format(round(train_score,3)))\n",
        "    print('\\t testing data is {}'.format(round(test_score, 3)))\n",
        "    \n",
        "    return train_score, test_score\n",
        "  \n",
        "# As an example, you can now call the function fit_and_score_model\n",
        "train_score, test_score = fit_and_score_model(cart_model, x_train, x_test, y_train, y_test)"
      ],
      "execution_count": 0,
      "outputs": [
        {
          "output_type": "stream",
          "text": [
            "the accuracy on the: \n",
            "\t training data is 0.8\n",
            "\t testing data is 0.753\n"
          ],
          "name": "stdout"
        }
      ]
    },
    {
      "cell_type": "code",
      "metadata": {
        "id": "T2ZBeKvDCnU3",
        "colab_type": "code",
        "outputId": "d21306d9-4e7e-409f-e6bb-241cd6817dfc",
        "colab": {
          "base_uri": "https://localhost:8080/",
          "height": 282
        }
      },
      "source": [
        "from sklearn.ensemble import RandomForestClassifier\n",
        "\n",
        "# Write your code here. \n",
        "\n",
        "# -------------------\n",
        "\n",
        "depths = [2, 3, 4, 5, 6, 7]\n",
        "accuracy = pd.Series(index=depths)\n",
        "\n",
        "for max_depth in depths:\n",
        "\n",
        "    # Initialize the model\n",
        "    rf_baseline_model = RandomForestClassifier(\n",
        "        random_state = 0, \n",
        "        max_depth = max_depth,\n",
        "        n_estimators = 50, max_features = 0.2\n",
        "    )\n",
        "    \n",
        "    # Fit and train model\n",
        "    print('For {} max_depth '.format(max_depth), end='')\n",
        "    train_score, test_score = fit_and_score_model(rf_baseline_model, x_train, x_test, y_train, y_test)\n",
        "    \n",
        "    # Save model performance to dataframe\n",
        "    cheat_scores.loc[max_depth] = test_score\n",
        "    \n",
        "print('\\n***Best model has a score of {:.3f} with a max_depth of {}***'.format(cheat_scores.max(), cheat_scores.idxmax()))"
      ],
      "execution_count": 0,
      "outputs": [
        {
          "output_type": "stream",
          "text": [
            "For 2 max_depth the accuracy on the: \n",
            "\t training data is 0.651\n",
            "\t testing data is 0.649\n"
          ],
          "name": "stdout"
        },
        {
          "output_type": "error",
          "ename": "NameError",
          "evalue": "ignored",
          "traceback": [
            "\u001b[0;31m---------------------------------------------------------------------------\u001b[0m",
            "\u001b[0;31mNameError\u001b[0m                                 Traceback (most recent call last)",
            "\u001b[0;32m<ipython-input-37-ba3705214f86>\u001b[0m in \u001b[0;36m<module>\u001b[0;34m()\u001b[0m\n\u001b[1;32m     22\u001b[0m \u001b[0;34m\u001b[0m\u001b[0m\n\u001b[1;32m     23\u001b[0m     \u001b[0;31m# Save model performance to dataframe\u001b[0m\u001b[0;34m\u001b[0m\u001b[0;34m\u001b[0m\u001b[0;34m\u001b[0m\u001b[0m\n\u001b[0;32m---> 24\u001b[0;31m     \u001b[0mcheat_scores\u001b[0m\u001b[0;34m.\u001b[0m\u001b[0mloc\u001b[0m\u001b[0;34m[\u001b[0m\u001b[0mmax_depth\u001b[0m\u001b[0;34m]\u001b[0m \u001b[0;34m=\u001b[0m \u001b[0mtest_score\u001b[0m\u001b[0;34m\u001b[0m\u001b[0;34m\u001b[0m\u001b[0m\n\u001b[0m\u001b[1;32m     25\u001b[0m \u001b[0;34m\u001b[0m\u001b[0m\n\u001b[1;32m     26\u001b[0m \u001b[0mprint\u001b[0m\u001b[0;34m(\u001b[0m\u001b[0;34m'\\n***Best model has a score of {:.3f} with a max_depth of {}***'\u001b[0m\u001b[0;34m.\u001b[0m\u001b[0mformat\u001b[0m\u001b[0;34m(\u001b[0m\u001b[0mcheat_scores\u001b[0m\u001b[0;34m.\u001b[0m\u001b[0mmax\u001b[0m\u001b[0;34m(\u001b[0m\u001b[0;34m)\u001b[0m\u001b[0;34m,\u001b[0m \u001b[0mcheat_scores\u001b[0m\u001b[0;34m.\u001b[0m\u001b[0midxmax\u001b[0m\u001b[0;34m(\u001b[0m\u001b[0;34m)\u001b[0m\u001b[0;34m)\u001b[0m\u001b[0;34m)\u001b[0m\u001b[0;34m\u001b[0m\u001b[0;34m\u001b[0m\u001b[0m\n",
            "\u001b[0;31mNameError\u001b[0m: name 'cheat_scores' is not defined"
          ]
        }
      ]
    },
    {
      "cell_type": "markdown",
      "metadata": {
        "id": "emLk5PuMG8xt",
        "colab_type": "text"
      },
      "source": [
        "### Cross Validation "
      ]
    },
    {
      "cell_type": "code",
      "metadata": {
        "id": "Uj-m8wndHICF",
        "colab_type": "code",
        "colab": {}
      },
      "source": [
        "from sklearn.model_selection import cross_validate\n",
        "\n",
        "# Initailize cross validation score DataFrame\n",
        "depth_lb = 20\n",
        "depth_ub = 80\n",
        "cv_scores = pd.Series(index=np.arange(depth_lb, depth_ub))\n",
        "\n",
        "for max_depth in range(depth_lb, depth_ub):\n",
        "  \n",
        "  # Initialize the model\n",
        "  rf_cv1_model = RandomForestClassifier(random_state = 0, max_depth = max_depth,\n",
        "                          n_estimators = 50, max_features = 0.20)\n",
        "  print(\"hi\")\n",
        "  print(max_depth)\n",
        "  # Run cross validation to get measure of out-of-sample error\n",
        "  example_cv_results = cross_validate(rf_cv1_model, x_train, y_train, cv=5)\n",
        "  print(\"bye\")\n",
        "  # Record the average out-of-sample error\n",
        "  cv_scores.loc[max_depth] = example_cv_results['test_score'].mean()"
      ],
      "execution_count": 0,
      "outputs": []
    },
    {
      "cell_type": "code",
      "metadata": {
        "id": "GiHWvr1yR2M9",
        "colab_type": "code",
        "colab": {}
      },
      "source": [
        "from sklearn.model_selection import GridSearchCV\n",
        "from sklearn.metrics import precision_score, recall_score\n",
        "\n",
        "param_grid = {'n_estimators': [1, 2, 4, 8, 16, 32, 64, 100, 200],\n",
        "              'max_features' : list(range(1,x_train.shape[1])),\n",
        "              'max_depth': np.arange(3, 30),\n",
        "             'min_samples_split': np.arange(.1,1.1,.1),\n",
        "             'min_samples_leaf': np.arange(.1,.6,.1)} \n",
        "\n",
        "grid_srch_rf = tree = GridSearchCV(RandomForestClassifier(), param_grid, cv=10,scoring='neg_mean_squared_error')\n",
        "grid_srch_rf.fit(x_train, y_train)\n",
        "grid_srch_rf.best_estimator_\n",
        "\n",
        "# mdl = DecisionTreeClassifier(random_state=1)\n",
        "# optimized_dt = GridSearchCV(mdl, params_to_search, scoring = ['recall', 'precision'], refit=False, cv=5)\n",
        "\n",
        "# print(\"Precision Score : \", precision_score(y_test, y_pred, \n",
        "#                                            pos_label='positive',\n",
        "#                                            average='micro'))\n",
        "# print(\"Precision Score : \", recall_score(y_test, y_pred, \n",
        "#                                            pos_label='positive',\n",
        "#                                            average='micro'))\n",
        "\n",
        "\n",
        "\n",
        "# optimized_dt.fit(x_train, y_train)\n",
        "\n",
        "\n",
        "# clf = GridSearchCV(estimator=RandomForestClassifier(), \n",
        "#                     param_grid=params_to_search,\n",
        "#                     cv=5,\n",
        "#                     refit=True,\n",
        "#                     error_score=0,\n",
        "#                     n_jobs=-1)\n",
        "\n",
        "\n",
        "# clf.fit(x_train, y_train)"
      ],
      "execution_count": 0,
      "outputs": []
    },
    {
      "cell_type": "code",
      "metadata": {
        "id": "SiBcaOmZWnHx",
        "colab_type": "code",
        "colab": {}
      },
      "source": [
        "clf.get_params().keys()"
      ],
      "execution_count": 0,
      "outputs": []
    },
    {
      "cell_type": "code",
      "metadata": {
        "id": "8Hfk0KXMWpOC",
        "colab_type": "code",
        "colab": {}
      },
      "source": [
        "df.head()\n",
        "df.groupby('source').size()"
      ],
      "execution_count": 0,
      "outputs": []
    },
    {
      "cell_type": "code",
      "metadata": {
        "id": "KIkDWqy7RRzZ",
        "colab_type": "code",
        "colab": {}
      },
      "source": [
        ""
      ],
      "execution_count": 0,
      "outputs": []
    },
    {
      "cell_type": "markdown",
      "metadata": {
        "id": "RiY-ygLMRbLW",
        "colab_type": "text"
      },
      "source": [
        "## K-Clustering "
      ]
    },
    {
      "cell_type": "code",
      "metadata": {
        "id": "NQLtZ5uJSJW3",
        "colab_type": "code",
        "colab": {}
      },
      "source": [
        "k_df = df.copy()\n",
        "k_df.head()\n",
        "k_df = pd.merge(k_df, weather, left_on=['date', 'hour_of_day', 'source'], right_on = ['date', 'hour_of_day', 'location'])\n",
        "k_df.head()"
      ],
      "execution_count": 0,
      "outputs": []
    },
    {
      "cell_type": "code",
      "metadata": {
        "id": "HPeipc-xT0FQ",
        "colab_type": "code",
        "colab": {}
      },
      "source": [
        "#drop categoricals, analysis for clustering will be time of day, distance and weather "
      ],
      "execution_count": 0,
      "outputs": []
    },
    {
      "cell_type": "code",
      "metadata": {
        "id": "vI6fm4CCSs8z",
        "colab_type": "code",
        "colab": {}
      },
      "source": [
        "kmeans = binary.copy()"
      ],
      "execution_count": 0,
      "outputs": []
    },
    {
      "cell_type": "code",
      "metadata": {
        "id": "RfnRIztsUVW5",
        "colab_type": "code",
        "colab": {}
      },
      "source": [
        "#k_df= k_df.drop(columns = [\"day_of_week_x\", \"destination\", \"location\", \"time_stamp_x\"])\n",
        "\n",
        "\n",
        "#k_df['day_of_week'] = k_df['day_of_week'].apply(lambda x: 1 if x == [\"Saturday\", \"Sunday\"] else 0)\n",
        "k_df= k_df.drop(columns = [\"day_of_week_y\"])\n",
        "k_df= k_df.drop(columns = [\"time_stamp_y\"])\n",
        "k_df= k_df.drop(columns = [\"name\", \"date\"])\n",
        "k_df= k_df.drop(columns = [\"cab_type\"])\n",
        "\n",
        "\n",
        "k_df = pd.get_dummies(k_df, columns=['source','category'])\n",
        "k_df.head()"
      ],
      "execution_count": 0,
      "outputs": []
    },
    {
      "cell_type": "code",
      "metadata": {
        "id": "gek4viUxRY9-",
        "colab_type": "code",
        "colab": {}
      },
      "source": [
        "from sklearn.preprocessing import StandardScaler\n",
        "\n",
        "def standarize(x_train, x_test, columns):\n",
        "    scaler = StandardScaler()\n",
        "    x_train[columns] = scaler.fit_transform(x_train[columns])\n",
        "    x_test[columns] = scaler.transform(x_test[columns])\n",
        "                        \n",
        "    return x_train, x_test"
      ],
      "execution_count": 0,
      "outputs": []
    },
    {
      "cell_type": "code",
      "metadata": {
        "id": "60GpA6UQRah-",
        "colab_type": "code",
        "colab": {}
      },
      "source": [
        "x = k_df.drop(columns = [\"price\"])\n",
        "y = k_df.price\n",
        "x_train, x_test, y_train, y_test = train_test_split(x, y, test_size=0.33, random_state=3)\n",
        "\n",
        "\n",
        "\n",
        "columns_to_scale = ['distance', 'temp', 'hour_of_day', 'clouds', 'pressure', 'rain',\n",
        "                    'humidity', 'wind']\n",
        "X_train_scaled, X_test_scaled = standarize(x_train, x_test, columns_to_scale)"
      ],
      "execution_count": 0,
      "outputs": []
    },
    {
      "cell_type": "code",
      "metadata": {
        "id": "oREpxL9zQRY7",
        "colab_type": "code",
        "colab": {}
      },
      "source": [
        "from sklearn.cluster import KMeans\n",
        "\n",
        "# Define clustering model \n",
        "mdk_k_means = KMeans(n_init = 1,  # number of different centroid seed initializations (number of times algorithm is run)\n",
        "                   n_clusters= 12,  # number of clusters (k)\n",
        "                   random_state = 1)  # random seed for k-means algorithm\n",
        "\n",
        "# Fit the model to the training set\n",
        "mdk_k_means.fit(X_train_scaled)#[non_binary_columns])\n",
        "\n",
        "# Get cluster assignments for each datapoint\n",
        "clK = mdk_k_means.labels_\n",
        "\n",
        "# Get the centroid of each cluster\n",
        "Centroids = mdk_k_means.cluster_centers_\n"
      ],
      "execution_count": 0,
      "outputs": []
    },
    {
      "cell_type": "code",
      "metadata": {
        "id": "Kg3RcvvCax7U",
        "colab_type": "code",
        "colab": {}
      },
      "source": [
        "k_df['clusters'] = clK\n",
        "columns_to_scale.extend['clusters']\n",
        "print(df_k[columns_to_scale].groupby(['clusters']).mean())\n"
      ],
      "execution_count": 0,
      "outputs": []
    }
  ]
}