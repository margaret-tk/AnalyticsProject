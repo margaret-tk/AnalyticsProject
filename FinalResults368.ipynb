{
  "nbformat": 4,
  "nbformat_minor": 0,
  "metadata": {
    "colab": {
      "name": "FinalResults368.ipynb",
      "provenance": [],
      "toc_visible": true
    },
    "kernelspec": {
      "name": "python3",
      "display_name": "Python 3"
    }
  },
  "cells": [
    {
      "cell_type": "code",
      "metadata": {
        "id": "PCzl8tAFs82C",
        "colab_type": "code",
        "outputId": "2c229b17-bcb2-4b66-ec35-e2b101d0cfa1",
        "colab": {
          "base_uri": "https://localhost:8080/",
          "height": 170
        }
      },
      "source": [
        "import pandas as pd\n",
        "import numpy as np\n",
        "import matplotlib.pyplot as plt\n",
        "\n",
        "\n",
        "data = pd.read_csv(\"data368\", error_bad_lines=False)"
      ],
      "execution_count": 0,
      "outputs": [
        {
          "output_type": "stream",
          "text": [
            "b'Skipping line 22321: expected 15 fields, saw 16\\nSkipping line 29629: expected 15 fields, saw 17\\nSkipping line 37133: expected 15 fields, saw 21\\nSkipping line 51819: expected 15 fields, saw 18\\nSkipping line 59214: expected 15 fields, saw 17\\n'\n",
            "b'Skipping line 73833: expected 15 fields, saw 18\\nSkipping line 88670: expected 15 fields, saw 27\\nSkipping line 118133: expected 15 fields, saw 25\\n'\n",
            "b'Skipping line 147448: expected 15 fields, saw 21\\nSkipping line 162190: expected 15 fields, saw 25\\nSkipping line 184339: expected 15 fields, saw 22\\n'\n",
            "b'Skipping line 198761: expected 15 fields, saw 24\\nSkipping line 220651: expected 15 fields, saw 18\\nSkipping line 235260: expected 15 fields, saw 27\\n'\n",
            "/usr/local/lib/python3.6/dist-packages/IPython/core/interactiveshell.py:2718: DtypeWarning: Columns (0,2,3,4,6,7,8,9,10,11) have mixed types. Specify dtype option on import or set low_memory=False.\n",
            "  interactivity=interactivity, compiler=compiler, result=result)\n"
          ],
          "name": "stderr"
        }
      ]
    },
    {
      "cell_type": "code",
      "metadata": {
        "id": "eLZEFGHDtvwA",
        "colab_type": "code",
        "colab": {}
      },
      "source": [
        "data.drop('Unnamed: 0', axis = 1, inplace=True)"
      ],
      "execution_count": 0,
      "outputs": []
    },
    {
      "cell_type": "code",
      "metadata": {
        "id": "1femQqx1wCOT",
        "colab_type": "code",
        "outputId": "be947db6-fb89-4b60-a569-5fe26d1d9777",
        "colab": {
          "base_uri": "https://localhost:8080/",
          "height": 248
        }
      },
      "source": [
        "data.head()"
      ],
      "execution_count": 0,
      "outputs": [
        {
          "output_type": "execute_result",
          "data": {
            "text/html": [
              "<div>\n",
              "<style scoped>\n",
              "    .dataframe tbody tr th:only-of-type {\n",
              "        vertical-align: middle;\n",
              "    }\n",
              "\n",
              "    .dataframe tbody tr th {\n",
              "        vertical-align: top;\n",
              "    }\n",
              "\n",
              "    .dataframe thead th {\n",
              "        text-align: right;\n",
              "    }\n",
              "</style>\n",
              "<table border=\"1\" class=\"dataframe\">\n",
              "  <thead>\n",
              "    <tr style=\"text-align: right;\">\n",
              "      <th></th>\n",
              "      <th>labels</th>\n",
              "      <th>Ave_D</th>\n",
              "      <th>distance</th>\n",
              "      <th>clouds</th>\n",
              "      <th>trip</th>\n",
              "      <th>pressure</th>\n",
              "      <th>humidity</th>\n",
              "      <th>tempSRQT</th>\n",
              "      <th>rainSRQT</th>\n",
              "      <th>windSRQT</th>\n",
              "      <th>price_noSM</th>\n",
              "      <th>category</th>\n",
              "      <th>hour_of_day</th>\n",
              "      <th>day_of_week</th>\n",
              "    </tr>\n",
              "  </thead>\n",
              "  <tbody>\n",
              "    <tr>\n",
              "      <th>0</th>\n",
              "      <td>0.0</td>\n",
              "      <td>0.589588</td>\n",
              "      <td>0.44</td>\n",
              "      <td>0.29</td>\n",
              "      <td>Haymarket Square_North Station</td>\n",
              "      <td>1022.25</td>\n",
              "      <td>0.76</td>\n",
              "      <td>6.20161</td>\n",
              "      <td>0.0</td>\n",
              "      <td>2.7712812921102037</td>\n",
              "      <td>5</td>\n",
              "      <td>Shared</td>\n",
              "      <td>9.0</td>\n",
              "      <td>Sunday</td>\n",
              "    </tr>\n",
              "    <tr>\n",
              "      <th>1</th>\n",
              "      <td>1.0</td>\n",
              "      <td>1.26586</td>\n",
              "      <td>1.33</td>\n",
              "      <td>0.29</td>\n",
              "      <td>Haymarket Square_Beacon Hill</td>\n",
              "      <td>1022.25</td>\n",
              "      <td>0.76</td>\n",
              "      <td>6.20161</td>\n",
              "      <td>0.0</td>\n",
              "      <td>2.7712812921102037</td>\n",
              "      <td>7</td>\n",
              "      <td>Regular</td>\n",
              "      <td>9.0</td>\n",
              "      <td>Sunday</td>\n",
              "    </tr>\n",
              "    <tr>\n",
              "      <th>2</th>\n",
              "      <td>0.0</td>\n",
              "      <td>0.589588</td>\n",
              "      <td>0.53</td>\n",
              "      <td>0.29</td>\n",
              "      <td>Haymarket Square_North Station</td>\n",
              "      <td>1022.25</td>\n",
              "      <td>0.76</td>\n",
              "      <td>6.20161</td>\n",
              "      <td>0.0</td>\n",
              "      <td>2.7712812921102037</td>\n",
              "      <td>27.5</td>\n",
              "      <td>LuxuryXL</td>\n",
              "      <td>9.0</td>\n",
              "      <td>Sunday</td>\n",
              "    </tr>\n",
              "    <tr>\n",
              "      <th>3</th>\n",
              "      <td>2.0</td>\n",
              "      <td>2.28312</td>\n",
              "      <td>2.36</td>\n",
              "      <td>0.29</td>\n",
              "      <td>Haymarket Square_Back Bay</td>\n",
              "      <td>1022.25</td>\n",
              "      <td>0.76</td>\n",
              "      <td>6.20161</td>\n",
              "      <td>0.0</td>\n",
              "      <td>2.7712812921102037</td>\n",
              "      <td>7</td>\n",
              "      <td>Shared</td>\n",
              "      <td>9.0</td>\n",
              "      <td>Sunday</td>\n",
              "    </tr>\n",
              "    <tr>\n",
              "      <th>4</th>\n",
              "      <td>3.0</td>\n",
              "      <td>0.697945</td>\n",
              "      <td>0.62</td>\n",
              "      <td>0.29</td>\n",
              "      <td>Haymarket Square_West End</td>\n",
              "      <td>1022.25</td>\n",
              "      <td>0.76</td>\n",
              "      <td>6.20161</td>\n",
              "      <td>0.0</td>\n",
              "      <td>2.7712812921102037</td>\n",
              "      <td>10.5</td>\n",
              "      <td>XL</td>\n",
              "      <td>9.0</td>\n",
              "      <td>Sunday</td>\n",
              "    </tr>\n",
              "  </tbody>\n",
              "</table>\n",
              "</div>"
            ],
            "text/plain": [
              "   labels     Ave_D distance  ...  category hour_of_day day_of_week\n",
              "0     0.0  0.589588     0.44  ...    Shared         9.0      Sunday\n",
              "1     1.0   1.26586     1.33  ...   Regular         9.0      Sunday\n",
              "2     0.0  0.589588     0.53  ...  LuxuryXL         9.0      Sunday\n",
              "3     2.0   2.28312     2.36  ...    Shared         9.0      Sunday\n",
              "4     3.0  0.697945     0.62  ...        XL         9.0      Sunday\n",
              "\n",
              "[5 rows x 14 columns]"
            ]
          },
          "metadata": {
            "tags": []
          },
          "execution_count": 11
        }
      ]
    },
    {
      "cell_type": "code",
      "metadata": {
        "id": "aWjQseMBN3Hu",
        "colab_type": "code",
        "colab": {}
      },
      "source": [
        "X1 = data[data.trip == \"Financial District_South Station\"]\n",
        "X2 = data[data.trip == \"Theatre District_South Station\"]"
      ],
      "execution_count": 0,
      "outputs": []
    },
    {
      "cell_type": "code",
      "metadata": {
        "id": "Q76nFtaSN6vB",
        "colab_type": "code",
        "outputId": "a291f3bf-dc2c-4d5a-a2e4-384dbbda70f3",
        "colab": {
          "base_uri": "https://localhost:8080/",
          "height": 40
        }
      },
      "source": [
        "X1.shape, X2.shape"
      ],
      "execution_count": 0,
      "outputs": [
        {
          "output_type": "execute_result",
          "data": {
            "text/plain": [
              "((9967, 14), (9255, 14))"
            ]
          },
          "metadata": {
            "tags": []
          },
          "execution_count": 13
        }
      ]
    },
    {
      "cell_type": "code",
      "metadata": {
        "id": "m-qiE1ueQA9e",
        "colab_type": "code",
        "outputId": "21ded761-b71d-4abf-da30-8cfada17d9a1",
        "colab": {
          "base_uri": "https://localhost:8080/",
          "height": 40
        }
      },
      "source": [
        "len(X1[X1.category == \"Regular\"]), len(X2[X2.category == \"Regular\"]), "
      ],
      "execution_count": 0,
      "outputs": [
        {
          "output_type": "execute_result",
          "data": {
            "text/plain": [
              "(1970, 1846)"
            ]
          },
          "metadata": {
            "tags": []
          },
          "execution_count": 14
        }
      ]
    },
    {
      "cell_type": "code",
      "metadata": {
        "id": "0WsQxxW8aERC",
        "colab_type": "code",
        "colab": {}
      },
      "source": [
        "d = X1[['distance', 'price_noSM']]\n",
        "s = X2[['distance', 'price_noSM']]\n",
        "print(d.price_noSM.mean(), s.price_noSM.mean())"
      ],
      "execution_count": 0,
      "outputs": []
    },
    {
      "cell_type": "markdown",
      "metadata": {
        "id": "0HxXchTeRK7q",
        "colab_type": "text"
      },
      "source": [
        "# **K-means clustering**"
      ]
    },
    {
      "cell_type": "code",
      "metadata": {
        "id": "g0G-Kci3SB8A",
        "colab_type": "code",
        "colab": {}
      },
      "source": [
        "X_total = pd.concat([X1, X2], axis=0)"
      ],
      "execution_count": 0,
      "outputs": []
    },
    {
      "cell_type": "code",
      "metadata": {
        "id": "RWOVUOSXSGGk",
        "colab_type": "code",
        "colab": {}
      },
      "source": [
        "X_total = X_total[X_total.category==\"Regular\"]"
      ],
      "execution_count": 0,
      "outputs": []
    },
    {
      "cell_type": "code",
      "metadata": {
        "id": "4AJQKn1JSSiL",
        "colab_type": "code",
        "colab": {}
      },
      "source": [
        "for_cluster = X_total[['distance', 'price_noSM']]"
      ],
      "execution_count": 0,
      "outputs": []
    },
    {
      "cell_type": "code",
      "metadata": {
        "id": "d7WsJBGdRxbM",
        "colab_type": "code",
        "colab": {}
      },
      "source": [
        "from sklearn.cluster import KMeans\n",
        "\n",
        "km = KMeans(\n",
        "    n_clusters=2,\n",
        "    n_init=10,\n",
        "    tol=1e-04, random_state=1280\n",
        ")\n",
        "y_km = km.fit_predict(for_cluster)"
      ],
      "execution_count": 0,
      "outputs": []
    },
    {
      "cell_type": "code",
      "metadata": {
        "id": "8JeiuyPES3_n",
        "colab_type": "code",
        "outputId": "a698c4b9-67f1-4efa-e2e9-48c52eee76eb",
        "colab": {
          "base_uri": "https://localhost:8080/",
          "height": 62
        }
      },
      "source": [
        "km.cluster_centers_"
      ],
      "execution_count": 0,
      "outputs": [
        {
          "output_type": "execute_result",
          "data": {
            "text/plain": [
              "array([[0.49714828, 6.92721555],\n",
              "       [0.53648718, 9.79333333]])"
            ]
          },
          "metadata": {
            "tags": []
          },
          "execution_count": 20
        }
      ]
    },
    {
      "cell_type": "code",
      "metadata": {
        "id": "beafHqWVRrxy",
        "colab_type": "code",
        "colab": {}
      },
      "source": [
        "cluster2 = for_cluster.to_numpy()"
      ],
      "execution_count": 0,
      "outputs": []
    },
    {
      "cell_type": "code",
      "metadata": {
        "id": "jpBeTMtjRl5s",
        "colab_type": "code",
        "outputId": "ebfc6424-a3cd-45c7-c039-2ffee536a791",
        "colab": {
          "base_uri": "https://localhost:8080/",
          "height": 356
        }
      },
      "source": [
        "clusters_centroids=dict()\n",
        "clusters_radii= dict()\n",
        "\n",
        "for cluster in list(set(y_km)):\n",
        "\n",
        "    clusters_centroids[cluster]=list(zip(km.cluster_centers_[:, 0],km.cluster_centers_[:,1]))[cluster]\n",
        "    clusters_radii[cluster] = max([np.linalg.norm(np.subtract(i,clusters_centroids[cluster])) for i in zip(cluster2[y_km == cluster, 0],cluster2[y_km == cluster, 1])])"
      ],
      "execution_count": 0,
      "outputs": [
        {
          "output_type": "error",
          "ename": "UFuncTypeError",
          "evalue": "ignored",
          "traceback": [
            "\u001b[0;31m---------------------------------------------------------------------------\u001b[0m",
            "\u001b[0;31mUFuncTypeError\u001b[0m                            Traceback (most recent call last)",
            "\u001b[0;32m<ipython-input-24-f00e3c894680>\u001b[0m in \u001b[0;36m<module>\u001b[0;34m()\u001b[0m\n\u001b[1;32m      5\u001b[0m \u001b[0;34m\u001b[0m\u001b[0m\n\u001b[1;32m      6\u001b[0m     \u001b[0mclusters_centroids\u001b[0m\u001b[0;34m[\u001b[0m\u001b[0mcluster\u001b[0m\u001b[0;34m]\u001b[0m\u001b[0;34m=\u001b[0m\u001b[0mlist\u001b[0m\u001b[0;34m(\u001b[0m\u001b[0mzip\u001b[0m\u001b[0;34m(\u001b[0m\u001b[0mkm\u001b[0m\u001b[0;34m.\u001b[0m\u001b[0mcluster_centers_\u001b[0m\u001b[0;34m[\u001b[0m\u001b[0;34m:\u001b[0m\u001b[0;34m,\u001b[0m \u001b[0;36m0\u001b[0m\u001b[0;34m]\u001b[0m\u001b[0;34m,\u001b[0m\u001b[0mkm\u001b[0m\u001b[0;34m.\u001b[0m\u001b[0mcluster_centers_\u001b[0m\u001b[0;34m[\u001b[0m\u001b[0;34m:\u001b[0m\u001b[0;34m,\u001b[0m\u001b[0;36m1\u001b[0m\u001b[0;34m]\u001b[0m\u001b[0;34m)\u001b[0m\u001b[0;34m)\u001b[0m\u001b[0;34m[\u001b[0m\u001b[0mcluster\u001b[0m\u001b[0;34m]\u001b[0m\u001b[0;34m\u001b[0m\u001b[0;34m\u001b[0m\u001b[0m\n\u001b[0;32m----> 7\u001b[0;31m     \u001b[0mclusters_radii\u001b[0m\u001b[0;34m[\u001b[0m\u001b[0mcluster\u001b[0m\u001b[0;34m]\u001b[0m \u001b[0;34m=\u001b[0m \u001b[0mmax\u001b[0m\u001b[0;34m(\u001b[0m\u001b[0;34m[\u001b[0m\u001b[0mnp\u001b[0m\u001b[0;34m.\u001b[0m\u001b[0mlinalg\u001b[0m\u001b[0;34m.\u001b[0m\u001b[0mnorm\u001b[0m\u001b[0;34m(\u001b[0m\u001b[0mnp\u001b[0m\u001b[0;34m.\u001b[0m\u001b[0msubtract\u001b[0m\u001b[0;34m(\u001b[0m\u001b[0mi\u001b[0m\u001b[0;34m,\u001b[0m\u001b[0mclusters_centroids\u001b[0m\u001b[0;34m[\u001b[0m\u001b[0mcluster\u001b[0m\u001b[0;34m]\u001b[0m\u001b[0;34m)\u001b[0m\u001b[0;34m)\u001b[0m \u001b[0;32mfor\u001b[0m \u001b[0mi\u001b[0m \u001b[0;32min\u001b[0m \u001b[0mzip\u001b[0m\u001b[0;34m(\u001b[0m\u001b[0mcluster2\u001b[0m\u001b[0;34m[\u001b[0m\u001b[0my_km\u001b[0m \u001b[0;34m==\u001b[0m \u001b[0mcluster\u001b[0m\u001b[0;34m,\u001b[0m \u001b[0;36m0\u001b[0m\u001b[0;34m]\u001b[0m\u001b[0;34m,\u001b[0m\u001b[0mcluster2\u001b[0m\u001b[0;34m[\u001b[0m\u001b[0my_km\u001b[0m \u001b[0;34m==\u001b[0m \u001b[0mcluster\u001b[0m\u001b[0;34m,\u001b[0m \u001b[0;36m1\u001b[0m\u001b[0;34m]\u001b[0m\u001b[0;34m)\u001b[0m\u001b[0;34m]\u001b[0m\u001b[0;34m)\u001b[0m\u001b[0;34m\u001b[0m\u001b[0;34m\u001b[0m\u001b[0m\n\u001b[0m",
            "\u001b[0;32m<ipython-input-24-f00e3c894680>\u001b[0m in \u001b[0;36m<listcomp>\u001b[0;34m(.0)\u001b[0m\n\u001b[1;32m      5\u001b[0m \u001b[0;34m\u001b[0m\u001b[0m\n\u001b[1;32m      6\u001b[0m     \u001b[0mclusters_centroids\u001b[0m\u001b[0;34m[\u001b[0m\u001b[0mcluster\u001b[0m\u001b[0;34m]\u001b[0m\u001b[0;34m=\u001b[0m\u001b[0mlist\u001b[0m\u001b[0;34m(\u001b[0m\u001b[0mzip\u001b[0m\u001b[0;34m(\u001b[0m\u001b[0mkm\u001b[0m\u001b[0;34m.\u001b[0m\u001b[0mcluster_centers_\u001b[0m\u001b[0;34m[\u001b[0m\u001b[0;34m:\u001b[0m\u001b[0;34m,\u001b[0m \u001b[0;36m0\u001b[0m\u001b[0;34m]\u001b[0m\u001b[0;34m,\u001b[0m\u001b[0mkm\u001b[0m\u001b[0;34m.\u001b[0m\u001b[0mcluster_centers_\u001b[0m\u001b[0;34m[\u001b[0m\u001b[0;34m:\u001b[0m\u001b[0;34m,\u001b[0m\u001b[0;36m1\u001b[0m\u001b[0;34m]\u001b[0m\u001b[0;34m)\u001b[0m\u001b[0;34m)\u001b[0m\u001b[0;34m[\u001b[0m\u001b[0mcluster\u001b[0m\u001b[0;34m]\u001b[0m\u001b[0;34m\u001b[0m\u001b[0;34m\u001b[0m\u001b[0m\n\u001b[0;32m----> 7\u001b[0;31m     \u001b[0mclusters_radii\u001b[0m\u001b[0;34m[\u001b[0m\u001b[0mcluster\u001b[0m\u001b[0;34m]\u001b[0m \u001b[0;34m=\u001b[0m \u001b[0mmax\u001b[0m\u001b[0;34m(\u001b[0m\u001b[0;34m[\u001b[0m\u001b[0mnp\u001b[0m\u001b[0;34m.\u001b[0m\u001b[0mlinalg\u001b[0m\u001b[0;34m.\u001b[0m\u001b[0mnorm\u001b[0m\u001b[0;34m(\u001b[0m\u001b[0mnp\u001b[0m\u001b[0;34m.\u001b[0m\u001b[0msubtract\u001b[0m\u001b[0;34m(\u001b[0m\u001b[0mi\u001b[0m\u001b[0;34m,\u001b[0m\u001b[0mclusters_centroids\u001b[0m\u001b[0;34m[\u001b[0m\u001b[0mcluster\u001b[0m\u001b[0;34m]\u001b[0m\u001b[0;34m)\u001b[0m\u001b[0;34m)\u001b[0m \u001b[0;32mfor\u001b[0m \u001b[0mi\u001b[0m \u001b[0;32min\u001b[0m \u001b[0mzip\u001b[0m\u001b[0;34m(\u001b[0m\u001b[0mcluster2\u001b[0m\u001b[0;34m[\u001b[0m\u001b[0my_km\u001b[0m \u001b[0;34m==\u001b[0m \u001b[0mcluster\u001b[0m\u001b[0;34m,\u001b[0m \u001b[0;36m0\u001b[0m\u001b[0;34m]\u001b[0m\u001b[0;34m,\u001b[0m\u001b[0mcluster2\u001b[0m\u001b[0;34m[\u001b[0m\u001b[0my_km\u001b[0m \u001b[0;34m==\u001b[0m \u001b[0mcluster\u001b[0m\u001b[0;34m,\u001b[0m \u001b[0;36m1\u001b[0m\u001b[0;34m]\u001b[0m\u001b[0;34m)\u001b[0m\u001b[0;34m]\u001b[0m\u001b[0;34m)\u001b[0m\u001b[0;34m\u001b[0m\u001b[0;34m\u001b[0m\u001b[0m\n\u001b[0m",
            "\u001b[0;31mUFuncTypeError\u001b[0m: ufunc 'subtract' did not contain a loop with signature matching types (dtype('<U32'), dtype('<U32')) -> dtype('<U32')"
          ]
        }
      ]
    },
    {
      "cell_type": "code",
      "metadata": {
        "id": "ABAoIelURac3",
        "colab_type": "code",
        "outputId": "751b8b39-5a28-4ada-80f5-23e423f3db95",
        "colab": {
          "base_uri": "https://localhost:8080/",
          "height": 129
        }
      },
      "source": [
        "import matplotlib.patches as mpatches\n",
        "\n",
        "fig, ax = plt.subplots(1, figsize=(18,16))\n",
        "ax.yaxis.tick_right()\n",
        "ax.invert_yaxis()\n",
        "\n",
        "plt.figure(1, figsize=(18, 16))\n",
        "plt.scatter(cluster2[:,0], cluster2[:,1], c=y_km, marker = 'o')\n",
        "art = mpatches.Circle(clusters_centroids[0],clusters_radii[0], edgecolor='b',fill=False, label =\"Financial District\")\n",
        "ax.add_patch(art)\n",
        "art = mpatches.Circle(clusters_centroids[1],clusters_radii[1], edgecolor='r',fill=False, label =\"Theatre District\")\n",
        "ax.add_patch(art)\n",
        "\n",
        "plt.scatter(km.cluster_centers_[0,0], km.cluster_centers_[0,1], c='red', marker = \"*\", s=700)\n",
        "plt.scatter(km.cluster_centers_[1,0], km.cluster_centers_[1,1], c='red', marker = \"*\", s=700)\n",
        "\n",
        "\n",
        "plt.title(\"Price distribution vs distance travelling to South Station, Boston, US\", fontsize= 30)\n",
        "plt.xlabel(\"Distance (mile)\", fontsize= 20)\n",
        "plt.ylabel(\"Price USD\", fontsize= 20)\n",
        "plt.legend(loc='best', prop={'size':30})\n",
        "plt.xlim([0:2])\n",
        "plt.grid()\n",
        "plt.show"
      ],
      "execution_count": 0,
      "outputs": [
        {
          "output_type": "error",
          "ename": "SyntaxError",
          "evalue": "ignored",
          "traceback": [
            "\u001b[0;36m  File \u001b[0;32m\"<ipython-input-159-e660b4255f56>\"\u001b[0;36m, line \u001b[0;32m22\u001b[0m\n\u001b[0;31m    plt.xlim([0:2])\u001b[0m\n\u001b[0m               ^\u001b[0m\n\u001b[0;31mSyntaxError\u001b[0m\u001b[0;31m:\u001b[0m invalid syntax\n"
          ]
        }
      ]
    },
    {
      "cell_type": "markdown",
      "metadata": {
        "id": "SoClTHNrRU-q",
        "colab_type": "text"
      },
      "source": [
        "# **Linear regression stuff**"
      ]
    },
    {
      "cell_type": "code",
      "metadata": {
        "id": "hVsivLlIvV0u",
        "colab_type": "code",
        "colab": {}
      },
      "source": [
        "from sklearn.linear_model import LinearRegression, LassoCV\n",
        "from sklearn.model_selection import train_test_split"
      ],
      "execution_count": 0,
      "outputs": []
    },
    {
      "cell_type": "code",
      "metadata": {
        "id": "InpqAeC-vyuA",
        "colab_type": "code",
        "colab": {}
      },
      "source": [
        "data = pd.get_dummies(data, columns=['trip', 'category', 'day_of_week'])"
      ],
      "execution_count": 0,
      "outputs": []
    },
    {
      "cell_type": "code",
      "metadata": {
        "id": "KRBqABTzv76R",
        "colab_type": "code",
        "colab": {}
      },
      "source": [
        "from sklearn.preprocessing import StandardScaler\n",
        "\n",
        "def standarize(x_train, x_test, columns):\n",
        "    scaler = StandardScaler()\n",
        "    x_train[columns] = scaler.fit_transform(x_train[columns])\n",
        "    x_test[columns] = scaler.transform(x_test[columns])\n",
        "                        \n",
        "    return x_train, x_test"
      ],
      "execution_count": 0,
      "outputs": []
    },
    {
      "cell_type": "code",
      "metadata": {
        "id": "nEygtx81wwp8",
        "colab_type": "code",
        "colab": {}
      },
      "source": [
        "X = data.drop('price_noSM', axis=1)\n",
        "y = data['price_noSM']"
      ],
      "execution_count": 0,
      "outputs": []
    },
    {
      "cell_type": "code",
      "metadata": {
        "id": "w1OicAmmwdYh",
        "colab_type": "code",
        "colab": {}
      },
      "source": [
        "X_train, X_test, y_train, y_test = train_test_split(X, y, test_size=0.33, random_state=1248)"
      ],
      "execution_count": 0,
      "outputs": []
    },
    {
      "cell_type": "code",
      "metadata": {
        "id": "yA1tMIFJxegp",
        "colab_type": "code",
        "outputId": "8e3ab9df-f29e-4bc4-9ae1-ba3b3d9d8216",
        "colab": {
          "base_uri": "https://localhost:8080/"
        }
      },
      "source": [
        "X_train, X_test = standarize(X_train, X_test, ['Ave_D','distance', 'clouds', 'pressure', 'rainSRQT','tempSRQT', 'windSRQT'])"
      ],
      "execution_count": 0,
      "outputs": [
        {
          "output_type": "stream",
          "text": [
            "/usr/local/lib/python3.6/dist-packages/ipykernel_launcher.py:5: SettingWithCopyWarning: \n",
            "A value is trying to be set on a copy of a slice from a DataFrame.\n",
            "Try using .loc[row_indexer,col_indexer] = value instead\n",
            "\n",
            "See the caveats in the documentation: http://pandas.pydata.org/pandas-docs/stable/user_guide/indexing.html#returning-a-view-versus-a-copy\n",
            "  \"\"\"\n",
            "/usr/local/lib/python3.6/dist-packages/pandas/core/indexing.py:494: SettingWithCopyWarning: \n",
            "A value is trying to be set on a copy of a slice from a DataFrame.\n",
            "Try using .loc[row_indexer,col_indexer] = value instead\n",
            "\n",
            "See the caveats in the documentation: http://pandas.pydata.org/pandas-docs/stable/user_guide/indexing.html#returning-a-view-versus-a-copy\n",
            "  self.obj[item] = s\n",
            "/usr/local/lib/python3.6/dist-packages/ipykernel_launcher.py:6: SettingWithCopyWarning: \n",
            "A value is trying to be set on a copy of a slice from a DataFrame.\n",
            "Try using .loc[row_indexer,col_indexer] = value instead\n",
            "\n",
            "See the caveats in the documentation: http://pandas.pydata.org/pandas-docs/stable/user_guide/indexing.html#returning-a-view-versus-a-copy\n",
            "  \n",
            "/usr/local/lib/python3.6/dist-packages/pandas/core/indexing.py:494: SettingWithCopyWarning: \n",
            "A value is trying to be set on a copy of a slice from a DataFrame.\n",
            "Try using .loc[row_indexer,col_indexer] = value instead\n",
            "\n",
            "See the caveats in the documentation: http://pandas.pydata.org/pandas-docs/stable/user_guide/indexing.html#returning-a-view-versus-a-copy\n",
            "  self.obj[item] = s\n"
          ],
          "name": "stderr"
        }
      ]
    },
    {
      "cell_type": "markdown",
      "metadata": {
        "id": "vRtXRdrS6qWR",
        "colab_type": "text"
      },
      "source": [
        "# **Linear Regression with all features**"
      ]
    },
    {
      "cell_type": "code",
      "metadata": {
        "id": "saEy1QPUyMEX",
        "colab_type": "code",
        "outputId": "1291253b-5968-424a-e554-4a0185e6fd1c",
        "colab": {
          "base_uri": "https://localhost:8080/",
          "height": 34
        }
      },
      "source": [
        "linreg = LinearRegression()\n",
        "linreg.fit(X_train, y_train)"
      ],
      "execution_count": 0,
      "outputs": [
        {
          "output_type": "execute_result",
          "data": {
            "text/plain": [
              "LinearRegression(copy_X=True, fit_intercept=True, n_jobs=None, normalize=False)"
            ]
          },
          "metadata": {
            "tags": []
          },
          "execution_count": 121
        }
      ]
    },
    {
      "cell_type": "code",
      "metadata": {
        "id": "qXunqywLzRzX",
        "colab_type": "code",
        "outputId": "1824552d-700f-4bf0-b56a-0cfd3904ed14",
        "colab": {
          "base_uri": "https://localhost:8080/",
          "height": 34
        }
      },
      "source": [
        "linreg.predict(X_test)\n",
        "\n",
        "train_score = linreg.score(X_train, y_train)\n",
        "test_score = linreg.score(X_test, y_test)\n",
        "\n",
        "print(train_score, test_score)"
      ],
      "execution_count": 0,
      "outputs": [
        {
          "output_type": "stream",
          "text": [
            "0.8839581296884627 0.8824439743432253\n"
          ],
          "name": "stdout"
        }
      ]
    },
    {
      "cell_type": "markdown",
      "metadata": {
        "id": "cwBtX4hc6mOT",
        "colab_type": "text"
      },
      "source": [
        "# **LASSO with all features**"
      ]
    },
    {
      "cell_type": "code",
      "metadata": {
        "id": "hz46pydrzibN",
        "colab_type": "code",
        "outputId": "5a9c9782-3061-4808-9a63-ba8cb4733dc0",
        "colab": {
          "base_uri": "https://localhost:8080/",
          "height": 139
        }
      },
      "source": [
        "lasso = LassoCV()\n",
        "lasso.fit(X_train, y_train)"
      ],
      "execution_count": 0,
      "outputs": [
        {
          "output_type": "stream",
          "text": [
            "/usr/local/lib/python3.6/dist-packages/sklearn/model_selection/_split.py:1978: FutureWarning: The default value of cv will change from 3 to 5 in version 0.22. Specify it explicitly to silence this warning.\n",
            "  warnings.warn(CV_WARNING, FutureWarning)\n"
          ],
          "name": "stderr"
        },
        {
          "output_type": "execute_result",
          "data": {
            "text/plain": [
              "LassoCV(alphas=None, copy_X=True, cv='warn', eps=0.001, fit_intercept=True,\n",
              "        max_iter=1000, n_alphas=100, n_jobs=None, normalize=False,\n",
              "        positive=False, precompute='auto', random_state=None,\n",
              "        selection='cyclic', tol=0.0001, verbose=False)"
            ]
          },
          "metadata": {
            "tags": []
          },
          "execution_count": 123
        }
      ]
    },
    {
      "cell_type": "code",
      "metadata": {
        "id": "EDMpnDYfz-K-",
        "colab_type": "code",
        "outputId": "682b8b6a-4f44-4587-d542-1ef52aa039c1",
        "colab": {
          "base_uri": "https://localhost:8080/",
          "height": 34
        }
      },
      "source": [
        "train_score = lasso.score(X_train, y_train)\n",
        "test_score = lasso.score(X_test, y_test)\n",
        "\n",
        "print(train_score, test_score)"
      ],
      "execution_count": 0,
      "outputs": [
        {
          "output_type": "stream",
          "text": [
            "0.880977643938881 0.879553452516146\n"
          ],
          "name": "stdout"
        }
      ]
    },
    {
      "cell_type": "code",
      "metadata": {
        "id": "ayOJdXjG0Dwt",
        "colab_type": "code",
        "outputId": "7e6668c1-751a-467f-d783-bed793a3a1a2",
        "colab": {
          "base_uri": "https://localhost:8080/",
          "height": 54
        }
      },
      "source": [
        "betas = pd.Series(lasso.coef_, index=X_train.columns)\n",
        "betas = betas.append(pd.Series({\"Intercept\": lasso.intercept_}))\n",
        "print([beta for beta in betas])"
      ],
      "execution_count": 0,
      "outputs": [
        {
          "output_type": "stream",
          "text": [
            "[0.0007436739843804795, 0.8353412297030339, 2.4301673283715943, -0.0015813724010331576, -0.0, -0.0, -0.0, -0.0, 0.004252759863424623, 0.0009123383708435466, -0.0, -0.0, 0.0, 0.0, -0.0, -0.0, -0.0, -0.0, -0.0, -0.0, -0.0, -0.0, -0.0, -0.0, 0.0, 0.0, -0.0, -0.0, -0.0, -0.0, 0.0, 0.0, 0.0, -0.0, 0.0, 0.0, -0.0, -0.0, 0.0, 0.0, 0.0, -0.0, -0.0, 0.0, -0.0, 0.0, 0.11063965207870122, 0.0, -0.0, -0.0, 0.0, -0.0, -0.0, -0.0, 0.0, -0.0, -0.0, -0.0, -0.0, -0.0, 0.0, 0.0, -0.0, -0.0, 0.0, -0.0, 0.0, -0.0, 0.0, 0.0, 0.0, 0.0, 0.0, 0.0, 0.0, 0.0, -0.0, -0.0, 0.0, -0.0, -0.0, -0.0, 6.10400221064187, 15.526749093491766, -5.698200213698931, -7.932676208921571, 0.0, -0.0, 0.0, 0.0, -0.0, 0.0, 0.0, -0.0, 15.350453126120925]\n"
          ],
          "name": "stdout"
        }
      ]
    },
    {
      "cell_type": "code",
      "metadata": {
        "id": "wAUOZNVY75Nt",
        "colab_type": "code",
        "outputId": "2075f099-0435-4d83-8301-bf1141f4a58d",
        "colab": {
          "base_uri": "https://localhost:8080/",
          "height": 287
        }
      },
      "source": [
        "X_train.head()"
      ],
      "execution_count": 0,
      "outputs": [
        {
          "output_type": "execute_result",
          "data": {
            "text/html": [
              "<div>\n",
              "<style scoped>\n",
              "    .dataframe tbody tr th:only-of-type {\n",
              "        vertical-align: middle;\n",
              "    }\n",
              "\n",
              "    .dataframe tbody tr th {\n",
              "        vertical-align: top;\n",
              "    }\n",
              "\n",
              "    .dataframe thead th {\n",
              "        text-align: right;\n",
              "    }\n",
              "</style>\n",
              "<table border=\"1\" class=\"dataframe\">\n",
              "  <thead>\n",
              "    <tr style=\"text-align: right;\">\n",
              "      <th></th>\n",
              "      <th>labels</th>\n",
              "      <th>Ave_D</th>\n",
              "      <th>distance</th>\n",
              "      <th>clouds</th>\n",
              "      <th>pressure</th>\n",
              "      <th>humidity</th>\n",
              "      <th>tempSRQT</th>\n",
              "      <th>rainSRQT</th>\n",
              "      <th>windSRQT</th>\n",
              "      <th>hour_of_day</th>\n",
              "      <th>trip_Back Bay_Boston University</th>\n",
              "      <th>trip_Back Bay_Fenway</th>\n",
              "      <th>trip_Back Bay_Haymarket Square</th>\n",
              "      <th>trip_Back Bay_North End</th>\n",
              "      <th>trip_Back Bay_Northeastern University</th>\n",
              "      <th>trip_Back Bay_South Station</th>\n",
              "      <th>trip_Beacon Hill_Boston University</th>\n",
              "      <th>trip_Beacon Hill_Fenway</th>\n",
              "      <th>trip_Beacon Hill_Haymarket Square</th>\n",
              "      <th>trip_Beacon Hill_North End</th>\n",
              "      <th>trip_Beacon Hill_Northeastern University</th>\n",
              "      <th>trip_Beacon Hill_South Station</th>\n",
              "      <th>trip_Boston University_Back Bay</th>\n",
              "      <th>trip_Boston University_Beacon Hill</th>\n",
              "      <th>trip_Boston University_Financial District</th>\n",
              "      <th>trip_Boston University_North Station</th>\n",
              "      <th>trip_Boston University_Theatre District</th>\n",
              "      <th>trip_Boston University_West End</th>\n",
              "      <th>trip_Fenway_Back Bay</th>\n",
              "      <th>trip_Fenway_Beacon Hill</th>\n",
              "      <th>trip_Fenway_Financial District</th>\n",
              "      <th>trip_Fenway_North Station</th>\n",
              "      <th>trip_Fenway_Theatre District</th>\n",
              "      <th>trip_Fenway_West End</th>\n",
              "      <th>trip_Financial District_Boston University</th>\n",
              "      <th>trip_Financial District_Fenway</th>\n",
              "      <th>trip_Financial District_Haymarket Square</th>\n",
              "      <th>trip_Financial District_North End</th>\n",
              "      <th>trip_Financial District_Northeastern University</th>\n",
              "      <th>trip_Financial District_South Station</th>\n",
              "      <th>...</th>\n",
              "      <th>trip_North Station_Haymarket Square</th>\n",
              "      <th>trip_North Station_North End</th>\n",
              "      <th>trip_North Station_Northeastern University</th>\n",
              "      <th>trip_North Station_South Station</th>\n",
              "      <th>trip_Northeastern University_Back Bay</th>\n",
              "      <th>trip_Northeastern University_Beacon Hill</th>\n",
              "      <th>trip_Northeastern University_Financial District</th>\n",
              "      <th>trip_Northeastern University_North Station</th>\n",
              "      <th>trip_Northeastern University_Theatre District</th>\n",
              "      <th>trip_Northeastern University_West End</th>\n",
              "      <th>trip_South Station_Back Bay</th>\n",
              "      <th>trip_South Station_Beacon Hill</th>\n",
              "      <th>trip_South Station_Financial District</th>\n",
              "      <th>trip_South Station_North Station</th>\n",
              "      <th>trip_South Station_Theatre District</th>\n",
              "      <th>trip_South Station_West End</th>\n",
              "      <th>trip_Theatre District_Boston University</th>\n",
              "      <th>trip_Theatre District_Fenway</th>\n",
              "      <th>trip_Theatre District_Haymarket Square</th>\n",
              "      <th>trip_Theatre District_North End</th>\n",
              "      <th>trip_Theatre District_Northeastern University</th>\n",
              "      <th>trip_Theatre District_South Station</th>\n",
              "      <th>trip_West End_Boston University</th>\n",
              "      <th>trip_West End_Fenway</th>\n",
              "      <th>trip_West End_Haymarket Square</th>\n",
              "      <th>trip_West End_North End</th>\n",
              "      <th>trip_West End_Northeastern University</th>\n",
              "      <th>trip_West End_South Station</th>\n",
              "      <th>category_Luxury</th>\n",
              "      <th>category_LuxuryXL</th>\n",
              "      <th>category_Regular</th>\n",
              "      <th>category_Shared</th>\n",
              "      <th>category_XL</th>\n",
              "      <th>day_of_week_Friday</th>\n",
              "      <th>day_of_week_Monday</th>\n",
              "      <th>day_of_week_Saturday</th>\n",
              "      <th>day_of_week_Sunday</th>\n",
              "      <th>day_of_week_Thursday</th>\n",
              "      <th>day_of_week_Tuesday</th>\n",
              "      <th>day_of_week_Wednesday</th>\n",
              "    </tr>\n",
              "  </thead>\n",
              "  <tbody>\n",
              "    <tr>\n",
              "      <th>89612</th>\n",
              "      <td>5</td>\n",
              "      <td>-1.062193</td>\n",
              "      <td>-1.056478</td>\n",
              "      <td>-0.407229</td>\n",
              "      <td>0.831200</td>\n",
              "      <td>0.71</td>\n",
              "      <td>1.348703</td>\n",
              "      <td>-0.316892</td>\n",
              "      <td>-0.234762</td>\n",
              "      <td>20</td>\n",
              "      <td>0</td>\n",
              "      <td>0</td>\n",
              "      <td>0</td>\n",
              "      <td>0</td>\n",
              "      <td>0</td>\n",
              "      <td>0</td>\n",
              "      <td>0</td>\n",
              "      <td>0</td>\n",
              "      <td>0</td>\n",
              "      <td>0</td>\n",
              "      <td>0</td>\n",
              "      <td>0</td>\n",
              "      <td>0</td>\n",
              "      <td>0</td>\n",
              "      <td>0</td>\n",
              "      <td>0</td>\n",
              "      <td>0</td>\n",
              "      <td>0</td>\n",
              "      <td>0</td>\n",
              "      <td>0</td>\n",
              "      <td>0</td>\n",
              "      <td>0</td>\n",
              "      <td>0</td>\n",
              "      <td>0</td>\n",
              "      <td>0</td>\n",
              "      <td>0</td>\n",
              "      <td>0</td>\n",
              "      <td>0</td>\n",
              "      <td>0</td>\n",
              "      <td>0</td>\n",
              "      <td>...</td>\n",
              "      <td>0</td>\n",
              "      <td>0</td>\n",
              "      <td>0</td>\n",
              "      <td>0</td>\n",
              "      <td>0</td>\n",
              "      <td>0</td>\n",
              "      <td>0</td>\n",
              "      <td>0</td>\n",
              "      <td>0</td>\n",
              "      <td>0</td>\n",
              "      <td>0</td>\n",
              "      <td>0</td>\n",
              "      <td>0</td>\n",
              "      <td>0</td>\n",
              "      <td>0</td>\n",
              "      <td>0</td>\n",
              "      <td>0</td>\n",
              "      <td>0</td>\n",
              "      <td>0</td>\n",
              "      <td>0</td>\n",
              "      <td>0</td>\n",
              "      <td>0</td>\n",
              "      <td>0</td>\n",
              "      <td>0</td>\n",
              "      <td>0</td>\n",
              "      <td>0</td>\n",
              "      <td>0</td>\n",
              "      <td>0</td>\n",
              "      <td>0</td>\n",
              "      <td>0</td>\n",
              "      <td>0</td>\n",
              "      <td>0</td>\n",
              "      <td>1</td>\n",
              "      <td>0</td>\n",
              "      <td>0</td>\n",
              "      <td>1</td>\n",
              "      <td>0</td>\n",
              "      <td>0</td>\n",
              "      <td>0</td>\n",
              "      <td>0</td>\n",
              "    </tr>\n",
              "    <tr>\n",
              "      <th>189955</th>\n",
              "      <td>4</td>\n",
              "      <td>-0.706541</td>\n",
              "      <td>-0.510728</td>\n",
              "      <td>1.058602</td>\n",
              "      <td>-1.138055</td>\n",
              "      <td>0.93</td>\n",
              "      <td>0.638178</td>\n",
              "      <td>0.795990</td>\n",
              "      <td>0.889887</td>\n",
              "      <td>8</td>\n",
              "      <td>0</td>\n",
              "      <td>0</td>\n",
              "      <td>0</td>\n",
              "      <td>0</td>\n",
              "      <td>0</td>\n",
              "      <td>0</td>\n",
              "      <td>0</td>\n",
              "      <td>0</td>\n",
              "      <td>0</td>\n",
              "      <td>0</td>\n",
              "      <td>0</td>\n",
              "      <td>0</td>\n",
              "      <td>0</td>\n",
              "      <td>0</td>\n",
              "      <td>0</td>\n",
              "      <td>0</td>\n",
              "      <td>0</td>\n",
              "      <td>0</td>\n",
              "      <td>0</td>\n",
              "      <td>0</td>\n",
              "      <td>0</td>\n",
              "      <td>0</td>\n",
              "      <td>0</td>\n",
              "      <td>0</td>\n",
              "      <td>0</td>\n",
              "      <td>0</td>\n",
              "      <td>0</td>\n",
              "      <td>0</td>\n",
              "      <td>0</td>\n",
              "      <td>0</td>\n",
              "      <td>...</td>\n",
              "      <td>0</td>\n",
              "      <td>0</td>\n",
              "      <td>0</td>\n",
              "      <td>0</td>\n",
              "      <td>0</td>\n",
              "      <td>0</td>\n",
              "      <td>0</td>\n",
              "      <td>0</td>\n",
              "      <td>0</td>\n",
              "      <td>0</td>\n",
              "      <td>0</td>\n",
              "      <td>0</td>\n",
              "      <td>0</td>\n",
              "      <td>0</td>\n",
              "      <td>0</td>\n",
              "      <td>0</td>\n",
              "      <td>0</td>\n",
              "      <td>0</td>\n",
              "      <td>1</td>\n",
              "      <td>0</td>\n",
              "      <td>0</td>\n",
              "      <td>0</td>\n",
              "      <td>0</td>\n",
              "      <td>0</td>\n",
              "      <td>0</td>\n",
              "      <td>0</td>\n",
              "      <td>0</td>\n",
              "      <td>0</td>\n",
              "      <td>0</td>\n",
              "      <td>1</td>\n",
              "      <td>0</td>\n",
              "      <td>0</td>\n",
              "      <td>0</td>\n",
              "      <td>0</td>\n",
              "      <td>0</td>\n",
              "      <td>0</td>\n",
              "      <td>0</td>\n",
              "      <td>0</td>\n",
              "      <td>1</td>\n",
              "      <td>0</td>\n",
              "    </tr>\n",
              "    <tr>\n",
              "      <th>290391</th>\n",
              "      <td>1</td>\n",
              "      <td>-0.871442</td>\n",
              "      <td>-1.126898</td>\n",
              "      <td>1.026736</td>\n",
              "      <td>-0.653396</td>\n",
              "      <td>0.89</td>\n",
              "      <td>0.749265</td>\n",
              "      <td>6.440877</td>\n",
              "      <td>1.374431</td>\n",
              "      <td>3</td>\n",
              "      <td>0</td>\n",
              "      <td>0</td>\n",
              "      <td>0</td>\n",
              "      <td>0</td>\n",
              "      <td>0</td>\n",
              "      <td>0</td>\n",
              "      <td>0</td>\n",
              "      <td>0</td>\n",
              "      <td>0</td>\n",
              "      <td>0</td>\n",
              "      <td>0</td>\n",
              "      <td>0</td>\n",
              "      <td>0</td>\n",
              "      <td>0</td>\n",
              "      <td>0</td>\n",
              "      <td>0</td>\n",
              "      <td>0</td>\n",
              "      <td>0</td>\n",
              "      <td>0</td>\n",
              "      <td>0</td>\n",
              "      <td>0</td>\n",
              "      <td>0</td>\n",
              "      <td>0</td>\n",
              "      <td>0</td>\n",
              "      <td>0</td>\n",
              "      <td>0</td>\n",
              "      <td>0</td>\n",
              "      <td>0</td>\n",
              "      <td>0</td>\n",
              "      <td>0</td>\n",
              "      <td>...</td>\n",
              "      <td>0</td>\n",
              "      <td>0</td>\n",
              "      <td>0</td>\n",
              "      <td>0</td>\n",
              "      <td>0</td>\n",
              "      <td>0</td>\n",
              "      <td>0</td>\n",
              "      <td>0</td>\n",
              "      <td>0</td>\n",
              "      <td>0</td>\n",
              "      <td>0</td>\n",
              "      <td>0</td>\n",
              "      <td>0</td>\n",
              "      <td>0</td>\n",
              "      <td>0</td>\n",
              "      <td>0</td>\n",
              "      <td>0</td>\n",
              "      <td>0</td>\n",
              "      <td>0</td>\n",
              "      <td>0</td>\n",
              "      <td>0</td>\n",
              "      <td>0</td>\n",
              "      <td>0</td>\n",
              "      <td>0</td>\n",
              "      <td>0</td>\n",
              "      <td>0</td>\n",
              "      <td>0</td>\n",
              "      <td>0</td>\n",
              "      <td>0</td>\n",
              "      <td>0</td>\n",
              "      <td>0</td>\n",
              "      <td>0</td>\n",
              "      <td>1</td>\n",
              "      <td>0</td>\n",
              "      <td>0</td>\n",
              "      <td>0</td>\n",
              "      <td>0</td>\n",
              "      <td>0</td>\n",
              "      <td>1</td>\n",
              "      <td>0</td>\n",
              "    </tr>\n",
              "    <tr>\n",
              "      <th>177665</th>\n",
              "      <td>6</td>\n",
              "      <td>-0.836047</td>\n",
              "      <td>-0.475518</td>\n",
              "      <td>-1.522534</td>\n",
              "      <td>1.759446</td>\n",
              "      <td>0.77</td>\n",
              "      <td>-0.842217</td>\n",
              "      <td>-0.316892</td>\n",
              "      <td>-0.992951</td>\n",
              "      <td>14</td>\n",
              "      <td>0</td>\n",
              "      <td>0</td>\n",
              "      <td>0</td>\n",
              "      <td>0</td>\n",
              "      <td>0</td>\n",
              "      <td>0</td>\n",
              "      <td>0</td>\n",
              "      <td>0</td>\n",
              "      <td>0</td>\n",
              "      <td>0</td>\n",
              "      <td>0</td>\n",
              "      <td>0</td>\n",
              "      <td>0</td>\n",
              "      <td>0</td>\n",
              "      <td>0</td>\n",
              "      <td>0</td>\n",
              "      <td>0</td>\n",
              "      <td>0</td>\n",
              "      <td>0</td>\n",
              "      <td>0</td>\n",
              "      <td>0</td>\n",
              "      <td>0</td>\n",
              "      <td>0</td>\n",
              "      <td>0</td>\n",
              "      <td>0</td>\n",
              "      <td>0</td>\n",
              "      <td>0</td>\n",
              "      <td>0</td>\n",
              "      <td>0</td>\n",
              "      <td>0</td>\n",
              "      <td>...</td>\n",
              "      <td>0</td>\n",
              "      <td>0</td>\n",
              "      <td>0</td>\n",
              "      <td>0</td>\n",
              "      <td>1</td>\n",
              "      <td>0</td>\n",
              "      <td>0</td>\n",
              "      <td>0</td>\n",
              "      <td>0</td>\n",
              "      <td>0</td>\n",
              "      <td>0</td>\n",
              "      <td>0</td>\n",
              "      <td>0</td>\n",
              "      <td>0</td>\n",
              "      <td>0</td>\n",
              "      <td>0</td>\n",
              "      <td>0</td>\n",
              "      <td>0</td>\n",
              "      <td>0</td>\n",
              "      <td>0</td>\n",
              "      <td>0</td>\n",
              "      <td>0</td>\n",
              "      <td>0</td>\n",
              "      <td>0</td>\n",
              "      <td>0</td>\n",
              "      <td>0</td>\n",
              "      <td>0</td>\n",
              "      <td>0</td>\n",
              "      <td>0</td>\n",
              "      <td>0</td>\n",
              "      <td>1</td>\n",
              "      <td>0</td>\n",
              "      <td>0</td>\n",
              "      <td>1</td>\n",
              "      <td>0</td>\n",
              "      <td>0</td>\n",
              "      <td>0</td>\n",
              "      <td>0</td>\n",
              "      <td>0</td>\n",
              "      <td>0</td>\n",
              "    </tr>\n",
              "    <tr>\n",
              "      <th>527578</th>\n",
              "      <td>25</td>\n",
              "      <td>0.836901</td>\n",
              "      <td>0.739217</td>\n",
              "      <td>-0.725887</td>\n",
              "      <td>-0.819927</td>\n",
              "      <td>0.70</td>\n",
              "      <td>-0.130527</td>\n",
              "      <td>-0.316892</td>\n",
              "      <td>0.853336</td>\n",
              "      <td>5</td>\n",
              "      <td>0</td>\n",
              "      <td>0</td>\n",
              "      <td>0</td>\n",
              "      <td>0</td>\n",
              "      <td>0</td>\n",
              "      <td>0</td>\n",
              "      <td>0</td>\n",
              "      <td>0</td>\n",
              "      <td>0</td>\n",
              "      <td>0</td>\n",
              "      <td>0</td>\n",
              "      <td>0</td>\n",
              "      <td>0</td>\n",
              "      <td>0</td>\n",
              "      <td>0</td>\n",
              "      <td>0</td>\n",
              "      <td>1</td>\n",
              "      <td>0</td>\n",
              "      <td>0</td>\n",
              "      <td>0</td>\n",
              "      <td>0</td>\n",
              "      <td>0</td>\n",
              "      <td>0</td>\n",
              "      <td>0</td>\n",
              "      <td>0</td>\n",
              "      <td>0</td>\n",
              "      <td>0</td>\n",
              "      <td>0</td>\n",
              "      <td>0</td>\n",
              "      <td>0</td>\n",
              "      <td>...</td>\n",
              "      <td>0</td>\n",
              "      <td>0</td>\n",
              "      <td>0</td>\n",
              "      <td>0</td>\n",
              "      <td>0</td>\n",
              "      <td>0</td>\n",
              "      <td>0</td>\n",
              "      <td>0</td>\n",
              "      <td>0</td>\n",
              "      <td>0</td>\n",
              "      <td>0</td>\n",
              "      <td>0</td>\n",
              "      <td>0</td>\n",
              "      <td>0</td>\n",
              "      <td>0</td>\n",
              "      <td>0</td>\n",
              "      <td>0</td>\n",
              "      <td>0</td>\n",
              "      <td>0</td>\n",
              "      <td>0</td>\n",
              "      <td>0</td>\n",
              "      <td>0</td>\n",
              "      <td>0</td>\n",
              "      <td>0</td>\n",
              "      <td>0</td>\n",
              "      <td>0</td>\n",
              "      <td>0</td>\n",
              "      <td>0</td>\n",
              "      <td>0</td>\n",
              "      <td>0</td>\n",
              "      <td>1</td>\n",
              "      <td>0</td>\n",
              "      <td>0</td>\n",
              "      <td>0</td>\n",
              "      <td>0</td>\n",
              "      <td>0</td>\n",
              "      <td>0</td>\n",
              "      <td>1</td>\n",
              "      <td>0</td>\n",
              "      <td>0</td>\n",
              "    </tr>\n",
              "  </tbody>\n",
              "</table>\n",
              "<p>5 rows × 94 columns</p>\n",
              "</div>"
            ],
            "text/plain": [
              "        labels     Ave_D  ...  day_of_week_Tuesday  day_of_week_Wednesday\n",
              "89612        5 -1.062193  ...                    0                      0\n",
              "189955       4 -0.706541  ...                    1                      0\n",
              "290391       1 -0.871442  ...                    1                      0\n",
              "177665       6 -0.836047  ...                    0                      0\n",
              "527578      25  0.836901  ...                    0                      0\n",
              "\n",
              "[5 rows x 94 columns]"
            ]
          },
          "metadata": {
            "tags": []
          },
          "execution_count": 126
        }
      ]
    },
    {
      "cell_type": "markdown",
      "metadata": {
        "id": "ZwQuvXud6gV9",
        "colab_type": "text"
      },
      "source": [
        "# **LASSO with reduced features**"
      ]
    },
    {
      "cell_type": "code",
      "metadata": {
        "id": "4rVNo1yh0e_J",
        "colab_type": "code",
        "colab": {}
      },
      "source": [
        "newX_train = X_train[['Ave_D','distance', 'clouds', 'windSRQT', 'hour_of_day',\n",
        "                     'trip_North End_Back Bay', 'category_Shared', 'category_Regular', \n",
        "                      'category_LuxuryXL', 'category_Luxury']]"
      ],
      "execution_count": 0,
      "outputs": []
    },
    {
      "cell_type": "code",
      "metadata": {
        "id": "d1HrpFFk2nGq",
        "colab_type": "code",
        "colab": {}
      },
      "source": [
        "newX_test = X_test[['Ave_D','distance', 'clouds', 'windSRQT', 'hour_of_day',\n",
        "                     'trip_North End_Back Bay','category_Shared', 'category_Regular', \n",
        "                    'category_LuxuryXL','category_Luxury']]"
      ],
      "execution_count": 0,
      "outputs": []
    },
    {
      "cell_type": "code",
      "metadata": {
        "id": "IZMfV_I42sqP",
        "colab_type": "code",
        "outputId": "8b5850fd-1d06-4395-e456-0e5bd24d4a1f",
        "colab": {
          "base_uri": "https://localhost:8080/",
          "height": 139
        }
      },
      "source": [
        "lasso2 = LassoCV()\n",
        "lasso2.fit(newX_train, y_train)"
      ],
      "execution_count": 0,
      "outputs": [
        {
          "output_type": "stream",
          "text": [
            "/usr/local/lib/python3.6/dist-packages/sklearn/model_selection/_split.py:1978: FutureWarning: The default value of cv will change from 3 to 5 in version 0.22. Specify it explicitly to silence this warning.\n",
            "  warnings.warn(CV_WARNING, FutureWarning)\n"
          ],
          "name": "stderr"
        },
        {
          "output_type": "execute_result",
          "data": {
            "text/plain": [
              "LassoCV(alphas=None, copy_X=True, cv='warn', eps=0.001, fit_intercept=True,\n",
              "        max_iter=1000, n_alphas=100, n_jobs=None, normalize=False,\n",
              "        positive=False, precompute='auto', random_state=None,\n",
              "        selection='cyclic', tol=0.0001, verbose=False)"
            ]
          },
          "metadata": {
            "tags": []
          },
          "execution_count": 129
        }
      ]
    },
    {
      "cell_type": "code",
      "metadata": {
        "id": "eBS18mnZ21gi",
        "colab_type": "code",
        "outputId": "b5b45053-38ee-4e0b-d56d-f1f6ed070b56",
        "colab": {
          "base_uri": "https://localhost:8080/",
          "height": 34
        }
      },
      "source": [
        "train_score = lasso2.score(newX_train, y_train)\n",
        "test_score = lasso2.score(newX_test, y_test)\n",
        "\n",
        "print(train_score, test_score)"
      ],
      "execution_count": 0,
      "outputs": [
        {
          "output_type": "stream",
          "text": [
            "0.8812057950121471 0.8797450165922671\n"
          ],
          "name": "stdout"
        }
      ]
    },
    {
      "cell_type": "code",
      "metadata": {
        "id": "L86KXnBI28dV",
        "colab_type": "code",
        "outputId": "e4b4b374-9a04-417e-833a-af1db70a6fd1",
        "colab": {
          "base_uri": "https://localhost:8080/",
          "height": 221
        }
      },
      "source": [
        "betas = pd.Series(lasso2.coef_, index=newX_train.columns)\n",
        "betas = betas.append(pd.Series({\"Intercept\": lasso2.intercept_}))\n",
        "print(betas)"
      ],
      "execution_count": 0,
      "outputs": [
        {
          "output_type": "stream",
          "text": [
            "Ave_D                       0.844522\n",
            "distance                    2.430969\n",
            "clouds                     -0.016447\n",
            "windSRQT                    0.017789\n",
            "hour_of_day                 0.001243\n",
            "trip_North End_Back Bay     0.964577\n",
            "category_Shared            -7.996832\n",
            "category_Regular           -5.762876\n",
            "category_LuxuryXL          15.588913\n",
            "category_Luxury             6.164917\n",
            "Intercept                  15.348214\n",
            "dtype: float64\n"
          ],
          "name": "stdout"
        }
      ]
    },
    {
      "cell_type": "markdown",
      "metadata": {
        "id": "khBKZIX36V5l",
        "colab_type": "text"
      },
      "source": [
        "# **Linear Regression with reduced features**"
      ]
    },
    {
      "cell_type": "code",
      "metadata": {
        "id": "Q68RZUPf3HGs",
        "colab_type": "code",
        "outputId": "66f3c20b-99c5-4288-d4b8-18f49a8aafad",
        "colab": {
          "base_uri": "https://localhost:8080/",
          "height": 34
        }
      },
      "source": [
        "linreg2 = LinearRegression()\n",
        "linreg2.fit(newX_train, y_train)"
      ],
      "execution_count": 0,
      "outputs": [
        {
          "output_type": "execute_result",
          "data": {
            "text/plain": [
              "LinearRegression(copy_X=True, fit_intercept=True, n_jobs=None, normalize=False)"
            ]
          },
          "metadata": {
            "tags": []
          },
          "execution_count": 132
        }
      ]
    },
    {
      "cell_type": "code",
      "metadata": {
        "id": "Xdut0auS6Ri-",
        "colab_type": "code",
        "outputId": "018675cd-99d8-4be2-c8fd-516a77ada4ac",
        "colab": {
          "base_uri": "https://localhost:8080/",
          "height": 34
        }
      },
      "source": [
        "train_score = linreg2.score(newX_train, y_train)\n",
        "test_score = linreg2.score(newX_test, y_test)\n",
        "\n",
        "print(train_score, test_score)"
      ],
      "execution_count": 0,
      "outputs": [
        {
          "output_type": "stream",
          "text": [
            "0.8812158489519033 0.8797470069241341\n"
          ],
          "name": "stdout"
        }
      ]
    },
    {
      "cell_type": "code",
      "metadata": {
        "id": "dhqvOokkAWuk",
        "colab_type": "code",
        "colab": {}
      },
      "source": [
        "df = pd.read_csv('https://drive.google.com/uc?export=download&id=167Nqjl4Q9D-bw72qJBrAm8ZYL-ANIh2Q')"
      ],
      "execution_count": 0,
      "outputs": []
    },
    {
      "cell_type": "code",
      "metadata": {
        "id": "Gjfz7Mik6uJe",
        "colab_type": "code",
        "outputId": "c2fc7837-30b3-4b19-9dae-b28a50357640",
        "colab": {
          "base_uri": "https://localhost:8080/",
          "height": 85
        }
      },
      "source": [
        "df['cab_type'] = df['cab_type'].map({'Uber':1, 'Lyft':-1})\n",
        "df.groupby('cab_type').size()"
      ],
      "execution_count": 0,
      "outputs": [
        {
          "output_type": "execute_result",
          "data": {
            "text/plain": [
              "cab_type\n",
              "-1    307408\n",
              " 1    385663\n",
              "dtype: int64"
            ]
          },
          "metadata": {
            "tags": []
          },
          "execution_count": 135
        }
      ]
    },
    {
      "cell_type": "code",
      "metadata": {
        "id": "nABXzQt6AV9u",
        "colab_type": "code",
        "colab": {}
      },
      "source": [
        "cab_type = df['cab_type']"
      ],
      "execution_count": 0,
      "outputs": []
    },
    {
      "cell_type": "code",
      "metadata": {
        "id": "dc5Nj9xtAkcv",
        "colab_type": "code",
        "colab": {}
      },
      "source": [
        "newX_train.insert(1, 'cab_type', cab_type)\n",
        "X_train.insert(1, 'cab_type', cab_type)\n",
        "newX_test.insert(1, 'cab_type', cab_type)\n",
        "X_test.insert(1, 'cab_type', cab_type)\n"
      ],
      "execution_count": 0,
      "outputs": []
    },
    {
      "cell_type": "markdown",
      "metadata": {
        "id": "QSvizI0YE-z1",
        "colab_type": "text"
      },
      "source": [
        "## **Linear Regression and Lasso for Uber with the reduced dataset**"
      ]
    },
    {
      "cell_type": "code",
      "metadata": {
        "id": "chxXNlwbFlSd",
        "colab_type": "code",
        "colab": {}
      },
      "source": [
        "data1 = newX_train.copy()"
      ],
      "execution_count": 0,
      "outputs": []
    },
    {
      "cell_type": "code",
      "metadata": {
        "id": "bLV3UB2BFumk",
        "colab_type": "code",
        "colab": {}
      },
      "source": [
        "data1.insert(1, 'Price', y_train)"
      ],
      "execution_count": 0,
      "outputs": []
    },
    {
      "cell_type": "code",
      "metadata": {
        "id": "DA7BKHHAA170",
        "colab_type": "code",
        "colab": {}
      },
      "source": [
        "data_uber = data1[data1.cab_type == 1]"
      ],
      "execution_count": 0,
      "outputs": []
    },
    {
      "cell_type": "code",
      "metadata": {
        "id": "8Uk9SDsjGbOo",
        "colab_type": "code",
        "colab": {}
      },
      "source": [
        "X_uber = data_uber.drop(['Price', 'cab_type'], axis=1)\n",
        "y_uber = data_uber['Price']"
      ],
      "execution_count": 0,
      "outputs": []
    },
    {
      "cell_type": "code",
      "metadata": {
        "id": "9yk4OtEIGZd5",
        "colab_type": "code",
        "colab": {}
      },
      "source": [
        "X_trainU, X_testU, y_trainU, y_testU = train_test_split(X_uber, y_uber, test_size=0.33, random_state=1248)"
      ],
      "execution_count": 0,
      "outputs": []
    },
    {
      "cell_type": "code",
      "metadata": {
        "id": "hhu8Yh3eG8vL",
        "colab_type": "code",
        "outputId": "ab6fb7b1-ad2c-44ec-d9ef-e1d250957ad4",
        "colab": {
          "base_uri": "https://localhost:8080/"
        }
      },
      "source": [
        "linregU = LinearRegression()\n",
        "linregU.fit(X_trainU, y_trainU)"
      ],
      "execution_count": 0,
      "outputs": [
        {
          "output_type": "execute_result",
          "data": {
            "text/plain": [
              "LinearRegression(copy_X=True, fit_intercept=True, n_jobs=None, normalize=False)"
            ]
          },
          "metadata": {
            "tags": []
          },
          "execution_count": 143
        }
      ]
    },
    {
      "cell_type": "code",
      "metadata": {
        "id": "dcewBoPNG9di",
        "colab_type": "code",
        "outputId": "c8b57b32-8654-49ab-8707-e711ad3aa84e",
        "colab": {
          "base_uri": "https://localhost:8080/"
        }
      },
      "source": [
        "train_score = linregU.score(X_trainU, y_trainU)\n",
        "test_score = linregU.score(X_testU, y_testU)\n",
        "\n",
        "print(train_score, test_score)"
      ],
      "execution_count": 0,
      "outputs": [
        {
          "output_type": "stream",
          "text": [
            "0.8929456537529769 0.890430232517606\n"
          ],
          "name": "stdout"
        }
      ]
    },
    {
      "cell_type": "code",
      "metadata": {
        "id": "JYuaOgA3Hc97",
        "colab_type": "code",
        "outputId": "a6067b17-b54b-4e9f-9663-947b82fdc647",
        "colab": {
          "base_uri": "https://localhost:8080/"
        }
      },
      "source": [
        "linsU = pd.Series(linregU.coef_, index=X_trainU.columns)\n",
        "linsU = linsU.append(pd.Series({\"Intercept\": linregU.intercept_}))\n",
        "print(linsU)"
      ],
      "execution_count": 0,
      "outputs": [
        {
          "output_type": "stream",
          "text": [
            "Ave_D                       0.886751\n",
            "distance                    2.415381\n",
            "clouds                     -0.021042\n",
            "windSRQT                    0.020496\n",
            "hour_of_day                 0.001700\n",
            "trip_North End_Back Bay     1.127188\n",
            "category_Shared            -8.070115\n",
            "category_Regular           -5.801647\n",
            "category_LuxuryXL          15.756592\n",
            "category_Luxury             6.225059\n",
            "Intercept                  15.450130\n",
            "dtype: float64\n"
          ],
          "name": "stdout"
        }
      ]
    },
    {
      "cell_type": "code",
      "metadata": {
        "id": "IdBUPX3LHIOz",
        "colab_type": "code",
        "outputId": "7288fb21-c9e8-4524-864c-a776fe74a668",
        "colab": {
          "base_uri": "https://localhost:8080/"
        }
      },
      "source": [
        "lassoU = LassoCV()\n",
        "lassoU.fit(X_trainU, y_trainU)"
      ],
      "execution_count": 0,
      "outputs": [
        {
          "output_type": "stream",
          "text": [
            "/usr/local/lib/python3.6/dist-packages/sklearn/model_selection/_split.py:1978: FutureWarning: The default value of cv will change from 3 to 5 in version 0.22. Specify it explicitly to silence this warning.\n",
            "  warnings.warn(CV_WARNING, FutureWarning)\n"
          ],
          "name": "stderr"
        },
        {
          "output_type": "execute_result",
          "data": {
            "text/plain": [
              "LassoCV(alphas=None, copy_X=True, cv='warn', eps=0.001, fit_intercept=True,\n",
              "        max_iter=1000, n_alphas=100, n_jobs=None, normalize=False,\n",
              "        positive=False, precompute='auto', random_state=None,\n",
              "        selection='cyclic', tol=0.0001, verbose=False)"
            ]
          },
          "metadata": {
            "tags": []
          },
          "execution_count": 146
        }
      ]
    },
    {
      "cell_type": "code",
      "metadata": {
        "id": "r00thQbPHDe9",
        "colab_type": "code",
        "outputId": "56f89ce0-477a-45f6-8a87-ffc59f24c213",
        "colab": {
          "base_uri": "https://localhost:8080/"
        }
      },
      "source": [
        "train_score = lassoU.score(X_trainU, y_trainU)\n",
        "test_score = lassoU.score(X_testU, y_testU)\n",
        "\n",
        "print(train_score, test_score)"
      ],
      "execution_count": 0,
      "outputs": [
        {
          "output_type": "stream",
          "text": [
            "0.8929356629235685 0.8904063382224408\n"
          ],
          "name": "stdout"
        }
      ]
    },
    {
      "cell_type": "code",
      "metadata": {
        "id": "jsd13kBhHBMs",
        "colab_type": "code",
        "outputId": "7b2a5be2-f521-4a4e-ae53-dd4d6d1e5096",
        "colab": {
          "base_uri": "https://localhost:8080/"
        }
      },
      "source": [
        "betasU = pd.Series(lassoU.coef_, index=X_trainU.columns)\n",
        "betasU = betasU.append(pd.Series({\"Intercept\": lassoU.intercept_}))\n",
        "print(betasU)"
      ],
      "execution_count": 0,
      "outputs": [
        {
          "output_type": "stream",
          "text": [
            "Ave_D                       0.896557\n",
            "distance                    2.404807\n",
            "clouds                     -0.017298\n",
            "windSRQT                    0.016904\n",
            "hour_of_day                 0.001640\n",
            "trip_North End_Back Bay     0.909422\n",
            "category_Shared            -8.053996\n",
            "category_Regular           -5.785423\n",
            "category_LuxuryXL          15.740319\n",
            "category_Luxury             6.209148\n",
            "Intercept                  15.454095\n",
            "dtype: float64\n"
          ],
          "name": "stdout"
        }
      ]
    },
    {
      "cell_type": "markdown",
      "metadata": {
        "id": "EORwZgBoGLiT",
        "colab_type": "text"
      },
      "source": [
        "# **Linear Regression and Lasso for Lyft with the reduced dataset**"
      ]
    },
    {
      "cell_type": "code",
      "metadata": {
        "id": "uGXn7AhKGCuo",
        "colab_type": "code",
        "colab": {}
      },
      "source": [
        "data_lyft = data1[data1.cab_type == -1]"
      ],
      "execution_count": 0,
      "outputs": []
    },
    {
      "cell_type": "code",
      "metadata": {
        "id": "bUBhg3aLGT0h",
        "colab_type": "code",
        "colab": {}
      },
      "source": [
        "X_lyft = data_lyft.drop(['Price', 'cab_type'], axis=1)\n",
        "y_lyft = data_lyft['Price']"
      ],
      "execution_count": 0,
      "outputs": []
    },
    {
      "cell_type": "code",
      "metadata": {
        "id": "r5RyjrayGwqc",
        "colab_type": "code",
        "colab": {}
      },
      "source": [
        "X_trainL, X_testL, y_trainL, y_testL = train_test_split(X_lyft, y_lyft, test_size=0.33, random_state=1248)"
      ],
      "execution_count": 0,
      "outputs": []
    },
    {
      "cell_type": "code",
      "metadata": {
        "id": "3a5otOKbHNtu",
        "colab_type": "code",
        "outputId": "15e1046d-0847-439b-f8d6-26a5e21af9cd",
        "colab": {
          "base_uri": "https://localhost:8080/"
        }
      },
      "source": [
        "linregL = LinearRegression()\n",
        "linregL.fit(X_trainL, y_trainL)"
      ],
      "execution_count": 0,
      "outputs": [
        {
          "output_type": "execute_result",
          "data": {
            "text/plain": [
              "LinearRegression(copy_X=True, fit_intercept=True, n_jobs=None, normalize=False)"
            ]
          },
          "metadata": {
            "tags": []
          },
          "execution_count": 152
        }
      ]
    },
    {
      "cell_type": "code",
      "metadata": {
        "id": "sMk4A2SWHOdp",
        "colab_type": "code",
        "outputId": "84e72917-c1e0-4c4d-ea3b-6679509db812",
        "colab": {
          "base_uri": "https://localhost:8080/"
        }
      },
      "source": [
        "train_score = linregL.score(X_trainL, y_trainL)\n",
        "test_score = linregL.score(X_testL, y_testL)\n",
        "\n",
        "print(train_score, test_score)"
      ],
      "execution_count": 0,
      "outputs": [
        {
          "output_type": "stream",
          "text": [
            "0.8683304709452798 0.8676601442914642\n"
          ],
          "name": "stdout"
        }
      ]
    },
    {
      "cell_type": "code",
      "metadata": {
        "id": "tKk4-UCEHXX5",
        "colab_type": "code",
        "outputId": "2d4a8acf-1a2a-4e04-f860-5ee21d8d14ae",
        "colab": {
          "base_uri": "https://localhost:8080/"
        }
      },
      "source": [
        "linsL = pd.Series(linregL.coef_, index=X_trainL.columns)\n",
        "linsL = linsL.append(pd.Series({\"Intercept\": linregL.intercept_}))\n",
        "print(linsL)"
      ],
      "execution_count": 0,
      "outputs": [
        {
          "output_type": "stream",
          "text": [
            "Ave_D                       0.848752\n",
            "distance                    2.378268\n",
            "clouds                     -0.022719\n",
            "windSRQT                    0.025472\n",
            "hour_of_day                 0.001787\n",
            "trip_North End_Back Bay     1.145477\n",
            "category_Shared            -7.911941\n",
            "category_Regular           -5.720384\n",
            "category_LuxuryXL          15.410329\n",
            "category_Luxury             6.118676\n",
            "Intercept                  15.177911\n",
            "dtype: float64\n"
          ],
          "name": "stdout"
        }
      ]
    },
    {
      "cell_type": "code",
      "metadata": {
        "id": "12O1gTg7HSDj",
        "colab_type": "code",
        "outputId": "b8e87765-b083-4b49-96db-02eea7796620",
        "colab": {
          "base_uri": "https://localhost:8080/"
        }
      },
      "source": [
        "lassoL = LassoCV()\n",
        "lassoL.fit(X_trainL, y_trainL)"
      ],
      "execution_count": 0,
      "outputs": [
        {
          "output_type": "stream",
          "text": [
            "/usr/local/lib/python3.6/dist-packages/sklearn/model_selection/_split.py:1978: FutureWarning: The default value of cv will change from 3 to 5 in version 0.22. Specify it explicitly to silence this warning.\n",
            "  warnings.warn(CV_WARNING, FutureWarning)\n"
          ],
          "name": "stderr"
        },
        {
          "output_type": "execute_result",
          "data": {
            "text/plain": [
              "LassoCV(alphas=None, copy_X=True, cv='warn', eps=0.001, fit_intercept=True,\n",
              "        max_iter=1000, n_alphas=100, n_jobs=None, normalize=False,\n",
              "        positive=False, precompute='auto', random_state=None,\n",
              "        selection='cyclic', tol=0.0001, verbose=False)"
            ]
          },
          "metadata": {
            "tags": []
          },
          "execution_count": 155
        }
      ]
    },
    {
      "cell_type": "code",
      "metadata": {
        "id": "8vP1zebDHT1R",
        "colab_type": "code",
        "outputId": "6aa71fc6-0521-434a-806e-80c1d16904e6",
        "colab": {
          "base_uri": "https://localhost:8080/"
        }
      },
      "source": [
        "train_score = lassoL.score(X_trainL, y_trainL)\n",
        "test_score = lassoL.score(X_testL, y_testL)\n",
        "\n",
        "print(train_score, test_score)"
      ],
      "execution_count": 0,
      "outputs": [
        {
          "output_type": "stream",
          "text": [
            "0.8683205118375668 0.8676248584405536\n"
          ],
          "name": "stdout"
        }
      ]
    },
    {
      "cell_type": "code",
      "metadata": {
        "id": "ZrRVWW0UHVgR",
        "colab_type": "code",
        "outputId": "2e10979a-fdc3-42fe-cdae-90eda04e46fa",
        "colab": {
          "base_uri": "https://localhost:8080/"
        }
      },
      "source": [
        "betasL = pd.Series(lassoL.coef_, index=X_trainL.columns)\n",
        "betasL = betasL.append(pd.Series({\"Intercept\": lassoL.intercept_}))\n",
        "print(betasL)"
      ],
      "execution_count": 0,
      "outputs": [
        {
          "output_type": "stream",
          "text": [
            "Ave_D                       0.860491\n",
            "distance                    2.365771\n",
            "clouds                     -0.019048\n",
            "windSRQT                    0.022330\n",
            "hour_of_day                 0.001683\n",
            "trip_North End_Back Bay     0.921326\n",
            "category_Shared            -7.896823\n",
            "category_Regular           -5.704588\n",
            "category_LuxuryXL          15.394343\n",
            "category_Luxury             6.103033\n",
            "Intercept                  15.182401\n",
            "dtype: float64\n"
          ],
          "name": "stdout"
        }
      ]
    },
    {
      "cell_type": "code",
      "metadata": {
        "id": "6Fwp5-XqJzgB",
        "colab_type": "code",
        "colab": {}
      },
      "source": [
        ""
      ],
      "execution_count": 0,
      "outputs": []
    }
  ]
}